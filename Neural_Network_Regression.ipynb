{
  "nbformat": 4,
  "nbformat_minor": 0,
  "metadata": {
    "colab": {
      "provenance": [],
      "gpuType": "T4"
    },
    "kernelspec": {
      "name": "python3",
      "display_name": "Python 3"
    },
    "language_info": {
      "name": "python"
    },
    "accelerator": "GPU"
  },
  "cells": [
    {
      "cell_type": "markdown",
      "source": [
        "Tensorflow:\n",
        "\n",
        "1. End to end platform for machine learning\n",
        "2. Write fast deep learning code in Python/other accessible languages\n",
        "3. Able to access many pre built deep learning models"
      ],
      "metadata": {
        "id": "kF7b0KgX7E0y"
      }
    },
    {
      "cell_type": "markdown",
      "source": [
        "Why Tensorflow:\n",
        "\n",
        "1. Easy Model Building\n",
        "2. Robuts ML production anywhere\n",
        "3. Powerful experimentation"
      ],
      "metadata": {
        "id": "FXostaK97cQX"
      }
    },
    {
      "cell_type": "code",
      "source": [
        "import tensorflow as tf\n",
        "import numpy as np\n",
        "from matplotlib import pyplot as plt\n",
        "import seaborn as sns\n",
        "import time\n",
        "print(tf.__version__)"
      ],
      "metadata": {
        "colab": {
          "base_uri": "https://localhost:8080/"
        },
        "id": "7ks5iMLw7mVZ",
        "outputId": "f76e7bde-e3a1-48b9-f69c-62ee6b4a0833"
      },
      "execution_count": 56,
      "outputs": [
        {
          "output_type": "stream",
          "name": "stdout",
          "text": [
            "2.15.0\n"
          ]
        }
      ]
    },
    {
      "cell_type": "markdown",
      "source": [
        "Creating a simple regression data"
      ],
      "metadata": {
        "id": "2RAUCsYH77HI"
      }
    },
    {
      "cell_type": "code",
      "source": [
        "# Create input features\n",
        "X = np.array([-7,-4,-1,2,5,8,11,14])\n",
        "\n",
        "# Create Features\n",
        "y = np.array([3,6,9,12,15,18,21,24])\n",
        "\n",
        "# Create Visualizations\n",
        "plt.scatter(X,y)"
      ],
      "metadata": {
        "colab": {
          "base_uri": "https://localhost:8080/",
          "height": 452
        },
        "id": "_kS_S_IF-E4E",
        "outputId": "8904d30e-1443-475a-fa9c-29671c78288c"
      },
      "execution_count": 23,
      "outputs": [
        {
          "output_type": "execute_result",
          "data": {
            "text/plain": [
              "<matplotlib.collections.PathCollection at 0x7a37924d3610>"
            ]
          },
          "metadata": {},
          "execution_count": 23
        },
        {
          "output_type": "display_data",
          "data": {
            "text/plain": [
              "<Figure size 640x480 with 1 Axes>"
            ],
            "image/png": "[encoded data removed]"
          },
          "metadata": {}
        }
      ]
    },
    {
      "cell_type": "code",
      "source": [
        "y == X+10"
      ],
      "metadata": {
        "colab": {
          "base_uri": "https://localhost:8080/"
        },
        "id": "dQWlqArK-FrN",
        "outputId": "d3ecd1e8-fb0f-40ed-f46e-9bd150a7d85c"
      },
      "execution_count": 24,
      "outputs": [
        {
          "output_type": "execute_result",
          "data": {
            "text/plain": [
              "array([ True,  True,  True,  True,  True,  True,  True,  True])"
            ]
          },
          "metadata": {},
          "execution_count": 24
        }
      ]
    },
    {
      "cell_type": "code",
      "source": [
        "X.shape,  y.shape"
      ],
      "metadata": {
        "colab": {
          "base_uri": "https://localhost:8080/"
        },
        "id": "y1-kHf8Z-FuD",
        "outputId": "7b1e55ee-e86f-42e1-b292-0c2e41ca2cce"
      },
      "execution_count": 27,
      "outputs": [
        {
          "output_type": "execute_result",
          "data": {
            "text/plain": [
              "((8,), (8,))"
            ]
          },
          "metadata": {},
          "execution_count": 27
        }
      ]
    },
    {
      "cell_type": "code",
      "source": [
        "house_info = tf.constant([\"bedroom\", \"bathroom\",\"garage\"])\n",
        "house_price = tf.constant([939700])\n",
        "house_info, house_price"
      ],
      "metadata": {
        "colab": {
          "base_uri": "https://localhost:8080/"
        },
        "id": "xEoTlnhU-FwV",
        "outputId": "3bf9ab0f-7d1b-4c1b-9074-bbc10754fa84"
      },
      "execution_count": 28,
      "outputs": [
        {
          "output_type": "execute_result",
          "data": {
            "text/plain": [
              "(<tf.Tensor: shape=(3,), dtype=string, numpy=array([b'bedroom', b'bathroom', b'garage'], dtype=object)>,\n",
              " <tf.Tensor: shape=(1,), dtype=int32, numpy=array([939700], dtype=int32)>)"
            ]
          },
          "metadata": {},
          "execution_count": 28
        }
      ]
    },
    {
      "cell_type": "code",
      "source": [
        "X[0], y[0]\n"
      ],
      "metadata": {
        "colab": {
          "base_uri": "https://localhost:8080/"
        },
        "id": "sDWDyn3Z_vyM",
        "outputId": "164b6ff8-7bb4-41a4-9951-b985d32ac260"
      },
      "execution_count": 30,
      "outputs": [
        {
          "output_type": "execute_result",
          "data": {
            "text/plain": [
              "(-7, 3)"
            ]
          },
          "metadata": {},
          "execution_count": 30
        }
      ]
    },
    {
      "cell_type": "code",
      "source": [
        "X = tf.cast(tf.constant(X), dtype= tf.float32)\n",
        "y = tf.cast(tf.constant(y), dtype = tf.float32 )\n",
        "\n",
        "X.shape, y.shape"
      ],
      "metadata": {
        "colab": {
          "base_uri": "https://localhost:8080/"
        },
        "id": "4wkm_b2nAQwT",
        "outputId": "ff423322-091b-4973-d6c3-ed9576011528"
      },
      "execution_count": 48,
      "outputs": [
        {
          "output_type": "execute_result",
          "data": {
            "text/plain": [
              "(TensorShape([8]), TensorShape([8]))"
            ]
          },
          "metadata": {},
          "execution_count": 48
        }
      ]
    },
    {
      "cell_type": "markdown",
      "source": [
        "Steps in modeling with Tensorflow:\n",
        "\n",
        "1. Creating a model\n",
        "2. Compiling a model\n",
        "3. Fitting a model"
      ],
      "metadata": {
        "id": "NSFjcm0BAjMo"
      }
    },
    {
      "cell_type": "code",
      "source": [
        "tf.random.set_seed(42)\n",
        "# Create a model  using the Sequential API\n",
        "model = tf.keras.Sequential([\n",
        "    tf.keras.layers.Dense(1)\n",
        "])\n",
        "\n",
        "# Compile the model\n",
        "\n",
        "model.compile(loss= tf.keras.losses.mae,\n",
        "              optimizer = tf.keras.optimizers.SGD(),\n",
        "              metrics = [\"mae\"])\n",
        "\n",
        "# Reshape X to have two dimensions\n",
        "X_reshaped = tf.reshape(X, (-1, 1))  # Assuming you have one feature per sample\n",
        "\n",
        "# Fit the model with the reshaped input data\n",
        "start = time.time()\n",
        "model.fit(X_reshaped, y, epochs=10)\n",
        "end = time.time()\n",
        "print(f\"Total training time: {(end-start)/60} minutes\")\n",
        "\n"
      ],
      "metadata": {
        "colab": {
          "base_uri": "https://localhost:8080/"
        },
        "id": "q0NT54yHA1GN",
        "outputId": "0a615c15-020e-4e62-ab72-1f129ee83c5b"
      },
      "execution_count": 67,
      "outputs": [
        {
          "output_type": "stream",
          "name": "stdout",
          "text": [
            "Epoch 1/10\n",
            "1/1 [==============================] - 1s 559ms/step - loss: 11.0199 - mae: 11.0199\n",
            "Epoch 2/10\n",
            "1/1 [==============================] - 0s 18ms/step - loss: 10.8874 - mae: 10.8874\n",
            "Epoch 3/10\n",
            "1/1 [==============================] - 0s 14ms/step - loss: 10.7549 - mae: 10.7549\n",
            "Epoch 4/10\n",
            "1/1 [==============================] - 0s 14ms/step - loss: 10.6224 - mae: 10.6224\n",
            "Epoch 5/10\n",
            "1/1 [==============================] - 0s 12ms/step - loss: 10.4899 - mae: 10.4899\n",
            "Epoch 6/10\n",
            "1/1 [==============================] - 0s 21ms/step - loss: 10.3574 - mae: 10.3574\n",
            "Epoch 7/10\n",
            "1/1 [==============================] - 0s 15ms/step - loss: 10.2249 - mae: 10.2249\n",
            "Epoch 8/10\n",
            "1/1 [==============================] - 0s 16ms/step - loss: 10.0924 - mae: 10.0924\n",
            "Epoch 9/10\n",
            "1/1 [==============================] - 0s 9ms/step - loss: 9.9599 - mae: 9.9599\n",
            "Epoch 10/10\n",
            "1/1 [==============================] - 0s 13ms/step - loss: 9.8274 - mae: 9.8274\n",
            "Total training time: 0.01929341952006022 minutes\n"
          ]
        }
      ]
    },
    {
      "cell_type": "code",
      "source": [
        "X.shape, y.shape"
      ],
      "metadata": {
        "colab": {
          "base_uri": "https://localhost:8080/"
        },
        "id": "WdaF1uQTBnBr",
        "outputId": "0764e9c0-2190-475e-fb60-485694d3faba"
      },
      "execution_count": 40,
      "outputs": [
        {
          "output_type": "execute_result",
          "data": {
            "text/plain": [
              "(TensorShape([8]), TensorShape([8]))"
            ]
          },
          "metadata": {},
          "execution_count": 40
        }
      ]
    },
    {
      "cell_type": "markdown",
      "source": [
        "Try and make a prediction using our model"
      ],
      "metadata": {
        "id": "pTjPNUwIDLhm"
      }
    },
    {
      "cell_type": "code",
      "source": [
        "model.predict([17])"
      ],
      "metadata": {
        "colab": {
          "base_uri": "https://localhost:8080/"
        },
        "id": "t_T78PnuEi_g",
        "outputId": "bb3b8271-7bdf-461d-a0c8-1dad256e7a49"
      },
      "execution_count": 62,
      "outputs": [
        {
          "output_type": "stream",
          "name": "stdout",
          "text": [
            "1/1 [==============================] - 0s 123ms/step\n"
          ]
        },
        {
          "output_type": "execute_result",
          "data": {
            "text/plain": [
              "array([[20.802097]], dtype=float32)"
            ]
          },
          "metadata": {},
          "execution_count": 62
        }
      ]
    },
    {
      "cell_type": "markdown",
      "source": [
        "Improving our model"
      ],
      "metadata": {
        "id": "F8mE2UtNEl-O"
      }
    },
    {
      "cell_type": "code",
      "source": [
        "tf.random.set_seed(42)\n",
        "# Create a model  using the Sequential API\n",
        "model = tf.keras.Sequential([\n",
        "    tf.keras.layers.Dense(100, activation=\"relu\"),\n",
        "    tf.keras.layers.Dense(100, activation=\"relu\"),\n",
        "    tf.keras.layers.Dense(100, activation=\"relu\"),\n",
        "    tf.keras.layers.Dense(1)\n",
        "])\n",
        "\n",
        "# Compile the model\n",
        "\n",
        "model.compile(loss= tf.keras.losses.mae,\n",
        "              optimizer = tf.keras.optimizers.Adam(learning_rate = 1e-3),\n",
        "              metrics = [\"mae\"])\n",
        "\n",
        "# Reshape X to have two dimensions\n",
        "X_reshaped = tf.reshape(X, (-1, 1))  # Assuming you have one feature per sample\n",
        "\n",
        "# Fit the model with the reshaped input data\n",
        "start = time.time()\n",
        "model.fit(X_reshaped, y, epochs=150)\n",
        "end = time.time()\n",
        "print(f\"Total training time: {(end-start)/60} minutes\")\n",
        "\n"
      ],
      "metadata": {
        "id": "vZnIwkj1E-pg"
      },
      "execution_count": null,
      "outputs": []
    },
    {
      "cell_type": "code",
      "source": [
        "model.predict([12])"
      ],
      "metadata": {
        "colab": {
          "base_uri": "https://localhost:8080/"
        },
        "id": "44zX-HVoGFJA",
        "outputId": "7ec23c9d-358d-4035-cca9-b190b080c259"
      },
      "execution_count": 76,
      "outputs": [
        {
          "output_type": "stream",
          "name": "stdout",
          "text": [
            "1/1 [==============================] - 0s 45ms/step\n"
          ]
        },
        {
          "output_type": "execute_result",
          "data": {
            "text/plain": [
              "array([[21.877005]], dtype=float32)"
            ]
          },
          "metadata": {},
          "execution_count": 76
        }
      ]
    },
    {
      "cell_type": "markdown",
      "source": [
        "Evaluating a tensorflow model"
      ],
      "metadata": {
        "id": "tOHk_3j9G6Bt"
      }
    },
    {
      "cell_type": "code",
      "source": [
        "X = tf.range(-100,100,4)\n",
        "X"
      ],
      "metadata": {
        "colab": {
          "base_uri": "https://localhost:8080/"
        },
        "id": "n_1aoAndHBc0",
        "outputId": "002dc5d1-ac5f-4653-b777-3bb2e1f34a03"
      },
      "execution_count": 77,
      "outputs": [
        {
          "output_type": "execute_result",
          "data": {
            "text/plain": [
              "<tf.Tensor: shape=(50,), dtype=int32, numpy=\n",
              "array([-100,  -96,  -92,  -88,  -84,  -80,  -76,  -72,  -68,  -64,  -60,\n",
              "        -56,  -52,  -48,  -44,  -40,  -36,  -32,  -28,  -24,  -20,  -16,\n",
              "        -12,   -8,   -4,    0,    4,    8,   12,   16,   20,   24,   28,\n",
              "         32,   36,   40,   44,   48,   52,   56,   60,   64,   68,   72,\n",
              "         76,   80,   84,   88,   92,   96], dtype=int32)>"
            ]
          },
          "metadata": {},
          "execution_count": 77
        }
      ]
    },
    {
      "cell_type": "code",
      "source": [
        "y = X + 10"
      ],
      "metadata": {
        "id": "8pvrM3guHIpC"
      },
      "execution_count": 78,
      "outputs": []
    },
    {
      "cell_type": "code",
      "source": [
        "y"
      ],
      "metadata": {
        "colab": {
          "base_uri": "https://localhost:8080/"
        },
        "id": "cTMfkAZ1HMIk",
        "outputId": "acc1fdfe-6d13-4f65-a605-520622ec35dd"
      },
      "execution_count": 79,
      "outputs": [
        {
          "output_type": "execute_result",
          "data": {
            "text/plain": [
              "<tf.Tensor: shape=(50,), dtype=int32, numpy=\n",
              "array([-90, -86, -82, -78, -74, -70, -66, -62, -58, -54, -50, -46, -42,\n",
              "       -38, -34, -30, -26, -22, -18, -14, -10,  -6,  -2,   2,   6,  10,\n",
              "        14,  18,  22,  26,  30,  34,  38,  42,  46,  50,  54,  58,  62,\n",
              "        66,  70,  74,  78,  82,  86,  90,  94,  98, 102, 106], dtype=int32)>"
            ]
          },
          "metadata": {},
          "execution_count": 79
        }
      ]
    },
    {
      "cell_type": "code",
      "source": [
        "sns.regplot(x=X, y=y, color = \"red\")\n",
        "\n",
        "# Show the plot\n",
        "plt.show()"
      ],
      "metadata": {
        "colab": {
          "base_uri": "https://localhost:8080/",
          "height": 430
        },
        "id": "z1kfrl3wHSRX",
        "outputId": "bf1f4cfa-8908-4368-ca33-ae92afa3ec37"
      },
      "execution_count": 90,
      "outputs": [
        {
          "output_type": "display_data",
          "data": {
            "text/plain": [
              "<Figure size 640x480 with 1 Axes>"
            ],
            "image/png": "[encoded data removed]"
          },
          "metadata": {}
        }
      ]
    },
    {
      "cell_type": "markdown",
      "source": [
        "The 3 sets:\n",
        "1. Training set: The model learns from this data, which is typically 70 to 80 % of the data\n",
        "2. Validation set: The model gets tuned in this data, whch is typically 10 to 15 % of the data\n",
        "3. Testing set: The model gets evaluated on this data to test what it has learned, this set is typically 10-15% of the total data available"
      ],
      "metadata": {
        "id": "3D9Q0HE0Htt8"
      }
    },
    {
      "cell_type": "code",
      "source": [
        "X_train = X[:40]\n",
        "y_train = y[:40]\n",
        "\n",
        "X_test = X[40:]\n",
        "y_test = y[40:]\n",
        "\n",
        "len(X_train), len(X_test)"
      ],
      "metadata": {
        "colab": {
          "base_uri": "https://localhost:8080/"
        },
        "id": "Xbg-bhaAHtq4",
        "outputId": "81dc4950-ce99-461b-ab80-f8e0bf9c3cd7"
      },
      "execution_count": 91,
      "outputs": [
        {
          "output_type": "execute_result",
          "data": {
            "text/plain": [
              "(40, 10)"
            ]
          },
          "metadata": {},
          "execution_count": 91
        }
      ]
    },
    {
      "cell_type": "code",
      "source": [
        "plt.figure(figsize = (10,7))\n",
        "plt.scatter(X_train, y_train, c= \"b\", label = \"training data\")\n",
        "plt.scatter(X_test, y_test, c=\"r\", label ='Testing data')\n",
        "plt.legend()"
      ],
      "metadata": {
        "colab": {
          "base_uri": "https://localhost:8080/",
          "height": 616
        },
        "id": "BYlEBJhYHtoU",
        "outputId": "0ac76f4c-4e2a-464d-fafe-a4f3d1cfb276"
      },
      "execution_count": 92,
      "outputs": [
        {
          "output_type": "execute_result",
          "data": {
            "text/plain": [
              "<matplotlib.legend.Legend at 0x7a3710c40310>"
            ]
          },
          "metadata": {},
          "execution_count": 92
        },
        {
          "output_type": "display_data",
          "data": {
            "text/plain": [
              "<Figure size 1000x700 with 1 Axes>"
            ],
            "image/png": "[encoded data removed]"
          },
          "metadata": {}
        }
      ]
    },
    {
      "cell_type": "code",
      "source": [],
      "metadata": {
        "id": "0WHiipeNHtly"
      },
      "execution_count": null,
      "outputs": []
    },
    {
      "cell_type": "code",
      "source": [],
      "metadata": {
        "id": "lvbygbPEHti7"
      },
      "execution_count": null,
      "outputs": []
    },
    {
      "cell_type": "code",
      "source": [
        "tf.random.set_seed(42)\n",
        "# Create a model  using the Sequential API\n",
        "model = tf.keras.Sequential([\n",
        "    tf.keras.layers.Dense(100, activation=\"relu\"),\n",
        "    tf.keras.layers.Dense(100, activation=\"relu\"),\n",
        "    tf.keras.layers.Dense(100, activation=\"relu\"),\n",
        "    tf.keras.layers.Dense(1)\n",
        "])\n",
        "\n",
        "# Compile the model\n",
        "\n",
        "model.compile(loss= tf.keras.losses.mae,\n",
        "              optimizer = tf.keras.optimizers.Adam(learning_rate = 1e-3),\n",
        "              metrics = [\"mae\"])\n",
        "\n",
        "# Reshape X to have two dimensions\n",
        "X_reshaped = tf.reshape(X, (-1, 1))  # Assuming you have one feature per sample\n",
        "\n",
        "# Fit the model with the reshaped input data\n",
        "start = time.time()\n",
        "model.fit(X_reshaped, y, epochs=150)\n",
        "end = time.time()\n",
        "print(f\"Total training time: {(end-start)/60} minutes\")\n",
        "\n"
      ],
      "metadata": {
        "id": "8hkBaBfqHM8T"
      },
      "execution_count": null,
      "outputs": []
    },
    {
      "cell_type": "code",
      "source": [
        "model.summary()"
      ],
      "metadata": {
        "colab": {
          "base_uri": "https://localhost:8080/"
        },
        "id": "pqyczQl6JlJi",
        "outputId": "2b08ab62-59bb-44d3-8db1-9d673f9f9a7d"
      },
      "execution_count": 96,
      "outputs": [
        {
          "output_type": "stream",
          "name": "stdout",
          "text": [
            "Model: \"sequential_28\"\n",
            "_________________________________________________________________\n",
            " Layer (type)                Output Shape              Param #   \n",
            "=================================================================\n",
            " dense_55 (Dense)            (None, 100)               200       \n",
            "                                                                 \n",
            " dense_56 (Dense)            (None, 100)               10100     \n",
            "                                                                 \n",
            " dense_57 (Dense)            (None, 100)               10100     \n",
            "                                                                 \n",
            " dense_58 (Dense)            (None, 1)                 101       \n",
            "                                                                 \n",
            "=================================================================\n",
            "Total params: 20501 (80.08 KB)\n",
            "Trainable params: 20501 (80.08 KB)\n",
            "Non-trainable params: 0 (0.00 Byte)\n",
            "_________________________________________________________________\n"
          ]
        }
      ]
    },
    {
      "cell_type": "code",
      "source": [
        "from tensorflow.keras.utils import plot_model\n",
        "\n",
        "plot_model(model, show_shapes = True, show_layer_names=True)"
      ],
      "metadata": {
        "colab": {
          "base_uri": "https://localhost:8080/",
          "height": 533
        },
        "id": "k1GWbQxqJt-S",
        "outputId": "25cfe855-6c5f-4b23-8a53-3823a0e45669"
      },
      "execution_count": 98,
      "outputs": [
        {
          "output_type": "execute_result",
          "data": {
            "image/png": "[encoded data removed]",
            "text/plain": [
              "<IPython.core.display.Image object>"
            ]
          },
          "metadata": {},
          "execution_count": 98
        }
      ]
    },
    {
      "cell_type": "code",
      "source": [
        "y_preds = model.predict(X_test)\n",
        "y_preds"
      ],
      "metadata": {
        "colab": {
          "base_uri": "https://localhost:8080/"
        },
        "id": "Ru-FY07SKHak",
        "outputId": "376605f0-21a2-4b5a-ce6a-0111f8636ed9"
      },
      "execution_count": 99,
      "outputs": [
        {
          "output_type": "stream",
          "name": "stdout",
          "text": [
            "1/1 [==============================] - 0s 97ms/step\n"
          ]
        },
        {
          "output_type": "execute_result",
          "data": {
            "text/plain": [
              "array([[ 68.62572],\n",
              "       [ 72.63957],\n",
              "       [ 76.65343],\n",
              "       [ 80.66739],\n",
              "       [ 84.70279],\n",
              "       [ 88.7413 ],\n",
              "       [ 92.78274],\n",
              "       [ 96.82419],\n",
              "       [100.86562],\n",
              "       [104.90707]], dtype=float32)"
            ]
          },
          "metadata": {},
          "execution_count": 99
        }
      ]
    },
    {
      "cell_type": "code",
      "source": [
        "y_test"
      ],
      "metadata": {
        "colab": {
          "base_uri": "https://localhost:8080/"
        },
        "id": "NTdQkbUKKZOL",
        "outputId": "1caef084-9039-405e-ea8e-047015715dd3"
      },
      "execution_count": 100,
      "outputs": [
        {
          "output_type": "execute_result",
          "data": {
            "text/plain": [
              "<tf.Tensor: shape=(10,), dtype=int32, numpy=array([ 70,  74,  78,  82,  86,  90,  94,  98, 102, 106], dtype=int32)>"
            ]
          },
          "metadata": {},
          "execution_count": 100
        }
      ]
    },
    {
      "cell_type": "code",
      "source": [
        "df = abs(y_preds-y_test)\n",
        "df"
      ],
      "metadata": {
        "colab": {
          "base_uri": "https://localhost:8080/"
        },
        "id": "zaLXYUGNKZwL",
        "outputId": "0c8245d5-25f8-4fb2-acd3-63fb55e77c97"
      },
      "execution_count": 107,
      "outputs": [
        {
          "output_type": "execute_result",
          "data": {
            "text/plain": [
              "<tf.Tensor: shape=(10, 10), dtype=int32, numpy=\n",
              "array([[ 2,  6, 10, 14, 18, 22, 26, 30, 34, 38],\n",
              "       [ 2,  2,  6, 10, 14, 18, 22, 26, 30, 34],\n",
              "       [ 6,  2,  2,  6, 10, 14, 18, 22, 26, 30],\n",
              "       [10,  6,  2,  2,  6, 10, 14, 18, 22, 26],\n",
              "       [14, 10,  6,  2,  2,  6, 10, 14, 18, 22],\n",
              "       [18, 14, 10,  6,  2,  2,  6, 10, 14, 18],\n",
              "       [22, 18, 14, 10,  6,  2,  2,  6, 10, 14],\n",
              "       [26, 22, 18, 14, 10,  6,  2,  2,  6, 10],\n",
              "       [30, 26, 22, 18, 14, 10,  6,  2,  2,  6],\n",
              "       [34, 30, 26, 22, 18, 14, 10,  6,  2,  2]], dtype=int32)>"
            ]
          },
          "metadata": {},
          "execution_count": 107
        }
      ]
    },
    {
      "cell_type": "code",
      "source": [
        "def plot_predictions(train_data=X_train,\n",
        "                     train_labels=y_train,\n",
        "                     test_data=X_test,\n",
        "                     test_labels=y_test,\n",
        "                     predictions=y_preds):\n",
        "  \"\"\"\n",
        "  Plots training data, test data and compares predictions.\n",
        "  \"\"\"\n",
        "  plt.figure(figsize=(10, 7))\n",
        "  # Plot training data in blue\n",
        "  plt.scatter(train_data, train_labels, c=\"b\", label=\"Training data\")\n",
        "  # Plot test data in green\n",
        "  plt.scatter(test_data, test_labels, c=\"g\", label=\"Testing data\")\n",
        "  # Plot the predictions in red (predictions were made on the test data)\n",
        "  plt.scatter(test_data, predictions, c=\"r\", label=\"Predictions\")\n",
        "  # Show the legend\n",
        "  plt.legend();\n",
        "\n",
        "\n",
        "plot_predictions(train_data=X_train,\n",
        "                 train_labels=y_train,\n",
        "                 test_data=X_test,\n",
        "                 test_labels=y_test,\n",
        "                 predictions=y_preds)"
      ],
      "metadata": {
        "id": "lrc6mcCAKdfF"
      },
      "execution_count": null,
      "outputs": []
    },
    {
      "cell_type": "code",
      "source": [
        "model.evaluate(X_test, y_test)"
      ],
      "metadata": {
        "colab": {
          "base_uri": "https://localhost:8080/"
        },
        "id": "hYAvJergLlAZ",
        "outputId": "2e6fa8a7-d548-4385-ef9e-7a770b251c0c"
      },
      "execution_count": 110,
      "outputs": [
        {
          "output_type": "stream",
          "name": "stdout",
          "text": [
            "1/1 [==============================] - 0s 257ms/step - loss: 1.2590 - mae: 1.2590\n"
          ]
        },
        {
          "output_type": "execute_result",
          "data": {
            "text/plain": [
              "[1.2590186595916748, 1.2590186595916748]"
            ]
          },
          "metadata": {},
          "execution_count": 110
        }
      ]
    },
    {
      "cell_type": "code",
      "source": [
        "y_preds"
      ],
      "metadata": {
        "colab": {
          "base_uri": "https://localhost:8080/"
        },
        "id": "3JRpmi50MdTc",
        "outputId": "a1b38631-d30c-49c2-c081-61c181c22854"
      },
      "execution_count": 112,
      "outputs": [
        {
          "output_type": "execute_result",
          "data": {
            "text/plain": [
              "array([[ 68.62572],\n",
              "       [ 72.63957],\n",
              "       [ 76.65343],\n",
              "       [ 80.66739],\n",
              "       [ 84.70279],\n",
              "       [ 88.7413 ],\n",
              "       [ 92.78274],\n",
              "       [ 96.82419],\n",
              "       [100.86562],\n",
              "       [104.90707]], dtype=float32)"
            ]
          },
          "metadata": {},
          "execution_count": 112
        }
      ]
    },
    {
      "cell_type": "code",
      "source": [
        "y_test"
      ],
      "metadata": {
        "colab": {
          "base_uri": "https://localhost:8080/"
        },
        "id": "WdpcyKcHMo-9",
        "outputId": "d79392c4-660f-4c26-c722-e17eb56e4d5b"
      },
      "execution_count": 113,
      "outputs": [
        {
          "output_type": "execute_result",
          "data": {
            "text/plain": [
              "<tf.Tensor: shape=(10,), dtype=int32, numpy=array([ 70,  74,  78,  82,  86,  90,  94,  98, 102, 106], dtype=int32)>"
            ]
          },
          "metadata": {},
          "execution_count": 113
        }
      ]
    },
    {
      "cell_type": "code",
      "source": [
        "y_preds - y_test"
      ],
      "metadata": {
        "colab": {
          "base_uri": "https://localhost:8080/"
        },
        "id": "5WcND157MqqZ",
        "outputId": "d704ba4c-0605-47be-ba6d-aa92d88f16ff"
      },
      "execution_count": 115,
      "outputs": [
        {
          "output_type": "execute_result",
          "data": {
            "text/plain": [
              "<tf.Tensor: shape=(10, 10), dtype=int32, numpy=\n",
              "array([[ -2,  -6, -10, -14, -18, -22, -26, -30, -34, -38],\n",
              "       [  2,  -2,  -6, -10, -14, -18, -22, -26, -30, -34],\n",
              "       [  6,   2,  -2,  -6, -10, -14, -18, -22, -26, -30],\n",
              "       [ 10,   6,   2,  -2,  -6, -10, -14, -18, -22, -26],\n",
              "       [ 14,  10,   6,   2,  -2,  -6, -10, -14, -18, -22],\n",
              "       [ 18,  14,  10,   6,   2,  -2,  -6, -10, -14, -18],\n",
              "       [ 22,  18,  14,  10,   6,   2,  -2,  -6, -10, -14],\n",
              "       [ 26,  22,  18,  14,  10,   6,   2,  -2,  -6, -10],\n",
              "       [ 30,  26,  22,  18,  14,  10,   6,   2,  -2,  -6],\n",
              "       [ 34,  30,  26,  22,  18,  14,  10,   6,   2,  -2]], dtype=int32)>"
            ]
          },
          "metadata": {},
          "execution_count": 115
        }
      ]
    },
    {
      "cell_type": "markdown",
      "source": [
        "Buliding differnt models for experimentation"
      ],
      "metadata": {
        "id": "stOfAFwzMwbW"
      }
    },
    {
      "cell_type": "code",
      "source": [
        "# Set random seed\n",
        "tf.random.set_seed(42)\n",
        "\n",
        "# Replicate original model\n",
        "model_1 = tf.keras.Sequential([\n",
        "  tf.keras.layers.Dense(1)\n",
        "])\n",
        "\n",
        "# Compile the model\n",
        "model_1.compile(loss=tf.keras.losses.mae,\n",
        "                optimizer=tf.keras.optimizers.SGD(),\n",
        "                metrics=['mae'])\n",
        "\n",
        "# Fit the model\n",
        "model_1.fit(tf.expand_dims(X_train, axis=-1), y_train, epochs=100)"
      ],
      "metadata": {
        "id": "6WQBmZNPM9PP"
      },
      "execution_count": null,
      "outputs": []
    },
    {
      "cell_type": "code",
      "source": [
        "# Make and plot predictions for model_1\n",
        "y_preds_1 = model_1.predict(X_test)\n",
        "plot_predictions(predictions=y_preds_1)"
      ],
      "metadata": {
        "colab": {
          "base_uri": "https://localhost:8080/",
          "height": 616
        },
        "id": "ZvsYn3WvNFZ7",
        "outputId": "8fe1803d-4d34-466a-931e-a13f0de7a432"
      },
      "execution_count": 117,
      "outputs": [
        {
          "output_type": "stream",
          "name": "stdout",
          "text": [
            "1/1 [==============================] - 0s 68ms/step\n"
          ]
        },
        {
          "output_type": "display_data",
          "data": {
            "text/plain": [
              "<Figure size 1000x700 with 1 Axes>"
            ],
            "image/png": "[encoded data removed]"
          },
          "metadata": {}
        }
      ]
    },
    {
      "cell_type": "code",
      "source": [
        "\n",
        "\n",
        "def mae(y_test, y_pred):\n",
        "  \"\"\"\n",
        "  Calculuates mean absolute error between y_test and y_preds.\n",
        "  \"\"\"\n",
        "  return tf.metrics.mean_absolute_error(y_test,\n",
        "                                        y_pred)\n",
        "\n",
        "def mse(y_test, y_pred):\n",
        "  \"\"\"\n",
        "  Calculates mean squared error between y_test and y_preds.\n",
        "  \"\"\"\n",
        "  return tf.metrics.mean_squared_error(y_test,\n",
        "                                       y_pred)"
      ],
      "metadata": {
        "id": "2nfjOwXwNei0"
      },
      "execution_count": 119,
      "outputs": []
    },
    {
      "cell_type": "code",
      "source": [
        "\n",
        "# Calculate model_1 metrics\n",
        "mae_1 = mae(y_test, y_preds_1.squeeze()).numpy()\n",
        "mse_1 = mse(y_test, y_preds_1.squeeze()).numpy()\n",
        "mae_1, mse_1"
      ],
      "metadata": {
        "colab": {
          "base_uri": "https://localhost:8080/"
        },
        "id": "rYuXHIXSNKcH",
        "outputId": "9c9efe50-7f34-402e-f675-18fea815fb27"
      },
      "execution_count": 120,
      "outputs": [
        {
          "output_type": "execute_result",
          "data": {
            "text/plain": [
              "(30.538, 942.9212)"
            ]
          },
          "metadata": {},
          "execution_count": 120
        }
      ]
    },
    {
      "cell_type": "markdown",
      "source": [
        "Build model2"
      ],
      "metadata": {
        "id": "iSTEfCzHNR9F"
      }
    },
    {
      "cell_type": "code",
      "source": [
        "\n",
        "\n",
        "# Set random seed\n",
        "tf.random.set_seed(42)\n",
        "\n",
        "# Replicate model_1 and add an extra layer\n",
        "model_2 = tf.keras.Sequential([\n",
        "  tf.keras.layers.Dense(1),\n",
        "  tf.keras.layers.Dense(1) # add a second layer\n",
        "])\n",
        "\n",
        "# Compile the model\n",
        "model_2.compile(loss=tf.keras.losses.mae,\n",
        "                optimizer=tf.keras.optimizers.SGD(),\n",
        "                metrics=['mae'])\n",
        "\n",
        "# Fit the model\n",
        "model_2.fit(tf.expand_dims(X_train, axis=-1), y_train, epochs=100, verbose=0)"
      ],
      "metadata": {
        "colab": {
          "base_uri": "https://localhost:8080/"
        },
        "id": "v-Yj3tO9NyvS",
        "outputId": "ca46d34c-1ac4-486f-a21f-75c1bc581eff"
      },
      "execution_count": 121,
      "outputs": [
        {
          "output_type": "execute_result",
          "data": {
            "text/plain": [
              "<keras.src.callbacks.History at 0x7a370e98afe0>"
            ]
          },
          "metadata": {},
          "execution_count": 121
        }
      ]
    },
    {
      "cell_type": "code",
      "source": [
        "model_2.summary()"
      ],
      "metadata": {
        "colab": {
          "base_uri": "https://localhost:8080/"
        },
        "id": "7PcS4NZoNzoh",
        "outputId": "dfd6a205-861a-45d3-bc73-8cbbc2c5f9ce"
      },
      "execution_count": 124,
      "outputs": [
        {
          "output_type": "stream",
          "name": "stdout",
          "text": [
            "Model: \"sequential_30\"\n",
            "_________________________________________________________________\n",
            " Layer (type)                Output Shape              Param #   \n",
            "=================================================================\n",
            " dense_60 (Dense)            (None, 1)                 2         \n",
            "                                                                 \n",
            " dense_61 (Dense)            (None, 1)                 2         \n",
            "                                                                 \n",
            "=================================================================\n",
            "Total params: 4 (16.00 Byte)\n",
            "Trainable params: 4 (16.00 Byte)\n",
            "Non-trainable params: 0 (0.00 Byte)\n",
            "_________________________________________________________________\n"
          ]
        }
      ]
    },
    {
      "cell_type": "code",
      "source": [
        "# Make and plot predictions for model_2\n",
        "y_preds_2 = model_2.predict(X_test)\n",
        "plot_predictions(predictions=y_preds_2)"
      ],
      "metadata": {
        "colab": {
          "base_uri": "https://localhost:8080/",
          "height": 654
        },
        "id": "NMHZGzKLN3NP",
        "outputId": "5e24f371-3a4d-4400-a892-572d9d15fbae"
      },
      "execution_count": 125,
      "outputs": [
        {
          "output_type": "stream",
          "name": "stderr",
          "text": [
            "WARNING:tensorflow:5 out of the last 8 calls to <function Model.make_predict_function.<locals>.predict_function at 0x7a370e973eb0> triggered tf.function retracing. Tracing is expensive and the excessive number of tracings could be due to (1) creating @tf.function repeatedly in a loop, (2) passing tensors with different shapes, (3) passing Python objects instead of tensors. For (1), please define your @tf.function outside of the loop. For (2), @tf.function has reduce_retracing=True option that can avoid unnecessary retracing. For (3), please refer to https://www.tensorflow.org/guide/function#controlling_retracing and https://www.tensorflow.org/api_docs/python/tf/function for  more details.\n"
          ]
        },
        {
          "output_type": "stream",
          "name": "stdout",
          "text": [
            "1/1 [==============================] - 0s 52ms/step\n"
          ]
        },
        {
          "output_type": "display_data",
          "data": {
            "text/plain": [
              "<Figure size 1000x700 with 1 Axes>"
            ],
            "image/png": "[encoded data removed]"
          },
          "metadata": {}
        }
      ]
    },
    {
      "cell_type": "code",
      "source": [
        "# Calculate model_2 metrics\n",
        "mae_2 = mae(y_test, y_preds_2.squeeze()).numpy()\n",
        "mse_2 = mse(y_test, y_preds_2.squeeze()).numpy()\n",
        "mae_2, mse_2"
      ],
      "metadata": {
        "colab": {
          "base_uri": "https://localhost:8080/"
        },
        "id": "cxh9sQkxN8Na",
        "outputId": "e1ae9734-462a-4593-975b-0ea8e0dfeb3b"
      },
      "execution_count": 126,
      "outputs": [
        {
          "output_type": "execute_result",
          "data": {
            "text/plain": [
              "(13.2133465, 184.56055)"
            ]
          },
          "metadata": {},
          "execution_count": 126
        }
      ]
    },
    {
      "cell_type": "markdown",
      "source": [
        "Building model 3"
      ],
      "metadata": {
        "id": "0riRmnIiN_Zf"
      }
    },
    {
      "cell_type": "code",
      "source": [
        "tf.random.set_seed(42)\n",
        "\n",
        "# Replicate model_2\n",
        "model_4 = tf.keras.Sequential([\n",
        "  tf.keras.layers.Dense(1),\n",
        "  tf.keras.layers.Dense(1)\n",
        "])\n",
        "\n",
        "# Compile the model\n",
        "model_4.compile(loss=tf.keras.losses.mae,\n",
        "                optimizer=tf.keras.optimizers.SGD(),\n",
        "                metrics=['mae'])\n",
        "\n",
        "# Fit the model (this time for 500 epochs, not 100)\n",
        "model_4.fit(tf.expand_dims(X_train, axis=-1), y_train, epochs=100, verbose=0) # set verbose to 0 for less output\n",
        "\n"
      ],
      "metadata": {
        "colab": {
          "base_uri": "https://localhost:8080/"
        },
        "id": "sLKJyYpEOTZS",
        "outputId": "70590f5b-cf44-44c5-d190-54196918a8c7"
      },
      "execution_count": 143,
      "outputs": [
        {
          "output_type": "execute_result",
          "data": {
            "text/plain": [
              "<keras.src.callbacks.History at 0x7a370d437cd0>"
            ]
          },
          "metadata": {},
          "execution_count": 143
        }
      ]
    },
    {
      "cell_type": "code",
      "source": [
        "import numpy as np\n",
        "\n",
        "# Example reshaping X_test\n",
        "X_test_reshaped = np.expand_dims(X_test, axis=1)  # Assuming X_test is a one-dimensional array\n",
        "\n",
        "# Now, you can use X_test_reshaped to make predictions\n",
        "y_preds_3 = model_4.predict(X_test_reshaped)\n",
        "plot_predictions(predictions=y_preds_3)\n",
        "\n",
        "\n",
        "\n",
        "# Calculate model_3 metrics\n",
        "mae_3 = mae(y_test, y_preds_3.squeeze()).numpy()\n",
        "mse_3 = mse(y_test, y_preds_3.squeeze()).numpy()\n",
        "mae_3, mse_3"
      ],
      "metadata": {
        "colab": {
          "base_uri": "https://localhost:8080/",
          "height": 634
        },
        "id": "ysCBIvp_O11J",
        "outputId": "c83ce373-2e58-43f9-b0fc-897d0846b441"
      },
      "execution_count": 144,
      "outputs": [
        {
          "output_type": "stream",
          "name": "stdout",
          "text": [
            "1/1 [==============================] - 0s 82ms/step\n"
          ]
        },
        {
          "output_type": "execute_result",
          "data": {
            "text/plain": [
              "(79.12956, 6364.441)"
            ]
          },
          "metadata": {},
          "execution_count": 144
        },
        {
          "output_type": "display_data",
          "data": {
            "text/plain": [
              "<Figure size 1000x700 with 1 Axes>"
            ],
            "image/png": "[encoded data removed]"
          },
          "metadata": {}
        }
      ]
    },
    {
      "cell_type": "code",
      "source": [
        "model_results = [[\"model_1\", mae_1, mse_1],\n",
        "                 [\"model_2\", mae_2, mse_2],\n",
        "                 [\"model_3\", mae_3, mae_3]]"
      ],
      "metadata": {
        "id": "DDth-jPoPHAG"
      },
      "execution_count": 145,
      "outputs": []
    },
    {
      "cell_type": "code",
      "source": [
        "\n",
        "import pandas as pd\n",
        "all_results = pd.DataFrame(model_results, columns=[\"model\", \"mae\", \"mse\"])\n",
        "all_results"
      ],
      "metadata": {
        "colab": {
          "base_uri": "https://localhost:8080/",
          "height": 143
        },
        "id": "me9fpKjMPaYp",
        "outputId": "f8f52ffd-b10e-4c53-f15e-5828e0a73622"
      },
      "execution_count": 146,
      "outputs": [
        {
          "output_type": "execute_result",
          "data": {
            "text/plain": [
              "     model        mae         mse\n",
              "0  model_1  30.538000  942.921204\n",
              "1  model_2  13.213346  184.560547\n",
              "2  model_3  79.129562   79.129562"
            ],
            "text/html": [
              "\n",
              "  <div id=\"df-418c21e8-04d7-4523-a7b2-58f934bb6a14\" class=\"colab-df-container\">\n",
              "    <div>\n",
              "<style scoped>\n",
              "    .dataframe tbody tr th:only-of-type {\n",
              "        vertical-align: middle;\n",
              "    }\n",
              "\n",
              "    .dataframe tbody tr th {\n",
              "        vertical-align: top;\n",
              "    }\n",
              "\n",
              "    .dataframe thead th {\n",
              "        text-align: right;\n",
              "    }\n",
              "</style>\n",
              "<table border=\"1\" class=\"dataframe\">\n",
              "  <thead>\n",
              "    <tr style=\"text-align: right;\">\n",
              "      <th></th>\n",
              "      <th>model</th>\n",
              "      <th>mae</th>\n",
              "      <th>mse</th>\n",
              "    </tr>\n",
              "  </thead>\n",
              "  <tbody>\n",
              "    <tr>\n",
              "      <th>0</th>\n",
              "      <td>model_1</td>\n",
              "      <td>30.538000</td>\n",
              "      <td>942.921204</td>\n",
              "    </tr>\n",
              "    <tr>\n",
              "      <th>1</th>\n",
              "      <td>model_2</td>\n",
              "      <td>13.213346</td>\n",
              "      <td>184.560547</td>\n",
              "    </tr>\n",
              "    <tr>\n",
              "      <th>2</th>\n",
              "      <td>model_3</td>\n",
              "      <td>79.129562</td>\n",
              "      <td>79.129562</td>\n",
              "    </tr>\n",
              "  </tbody>\n",
              "</table>\n",
              "</div>\n",
              "    <div class=\"colab-df-buttons\">\n",
              "\n",
              "  <div class=\"colab-df-container\">\n",
              "    <button class=\"colab-df-convert\" onclick=\"convertToInteractive('df-418c21e8-04d7-4523-a7b2-58f934bb6a14')\"\n",
              "            title=\"Convert this dataframe to an interactive table.\"\n",
              "            style=\"display:none;\">\n",
              "\n",
              "  <svg xmlns=\"http://www.w3.org/2000/svg\" height=\"24px\" viewBox=\"0 -960 960 960\">\n",
              "    <path d=\"M120-120v-720h720v720H120Zm60-500h600v-160H180v160Zm220 220h160v-160H400v160Zm0 220h160v-160H400v160ZM180-400h160v-160H180v160Zm440 0h160v-160H620v160ZM180-180h160v-160H180v160Zm440 0h160v-160H620v160Z\"/>\n",
              "  </svg>\n",
              "    </button>\n",
              "\n",
              "  <style>\n",
              "    .colab-df-container {\n",
              "      display:flex;\n",
              "      gap: 12px;\n",
              "    }\n",
              "\n",
              "    .colab-df-convert {\n",
              "      background-color: #E8F0FE;\n",
              "      border: none;\n",
              "      border-radius: 50%;\n",
              "      cursor: pointer;\n",
              "      display: none;\n",
              "      fill: #1967D2;\n",
              "      height: 32px;\n",
              "      padding: 0 0 0 0;\n",
              "      width: 32px;\n",
              "    }\n",
              "\n",
              "    .colab-df-convert:hover {\n",
              "      background-color: #E2EBFA;\n",
              "      box-shadow: 0px 1px 2px rgba(60, 64, 67, 0.3), 0px 1px 3px 1px rgba(60, 64, 67, 0.15);\n",
              "      fill: #174EA6;\n",
              "    }\n",
              "\n",
              "    .colab-df-buttons div {\n",
              "      margin-bottom: 4px;\n",
              "    }\n",
              "\n",
              "    [theme=dark] .colab-df-convert {\n",
              "      background-color: #3B4455;\n",
              "      fill: #D2E3FC;\n",
              "    }\n",
              "\n",
              "    [theme=dark] .colab-df-convert:hover {\n",
              "      background-color: #434B5C;\n",
              "      box-shadow: 0px 1px 3px 1px rgba(0, 0, 0, 0.15);\n",
              "      filter: drop-shadow(0px 1px 2px rgba(0, 0, 0, 0.3));\n",
              "      fill: #FFFFFF;\n",
              "    }\n",
              "  </style>\n",
              "\n",
              "    <script>\n",
              "      const buttonEl =\n",
              "        document.querySelector('#df-418c21e8-04d7-4523-a7b2-58f934bb6a14 button.colab-df-convert');\n",
              "      buttonEl.style.display =\n",
              "        google.colab.kernel.accessAllowed ? 'block' : 'none';\n",
              "\n",
              "      async function convertToInteractive(key) {\n",
              "        const element = document.querySelector('#df-418c21e8-04d7-4523-a7b2-58f934bb6a14');\n",
              "        const dataTable =\n",
              "          await google.colab.kernel.invokeFunction('convertToInteractive',\n",
              "                                                    [key], {});\n",
              "        if (!dataTable) return;\n",
              "\n",
              "        const docLinkHtml = 'Like what you see? Visit the ' +\n",
              "          '<a target=\"_blank\" href=https://colab.research.google.com/notebooks/data_table.ipynb>data table notebook</a>'\n",
              "          + ' to learn more about interactive tables.';\n",
              "        element.innerHTML = '';\n",
              "        dataTable['output_type'] = 'display_data';\n",
              "        await google.colab.output.renderOutput(dataTable, element);\n",
              "        const docLink = document.createElement('div');\n",
              "        docLink.innerHTML = docLinkHtml;\n",
              "        element.appendChild(docLink);\n",
              "      }\n",
              "    </script>\n",
              "  </div>\n",
              "\n",
              "\n",
              "<div id=\"df-0e04842c-1e9a-4663-9041-3e1ae22e5c4b\">\n",
              "  <button class=\"colab-df-quickchart\" onclick=\"quickchart('df-0e04842c-1e9a-4663-9041-3e1ae22e5c4b')\"\n",
              "            title=\"Suggest charts\"\n",
              "            style=\"display:none;\">\n",
              "\n",
              "<svg xmlns=\"http://www.w3.org/2000/svg\" height=\"24px\"viewBox=\"0 0 24 24\"\n",
              "     width=\"24px\">\n",
              "    <g>\n",
              "        <path d=\"M19 3H5c-1.1 0-2 .9-2 2v14c0 1.1.9 2 2 2h14c1.1 0 2-.9 2-2V5c0-1.1-.9-2-2-2zM9 17H7v-7h2v7zm4 0h-2V7h2v10zm4 0h-2v-4h2v4z\"/>\n",
              "    </g>\n",
              "</svg>\n",
              "  </button>\n",
              "\n",
              "<style>\n",
              "  .colab-df-quickchart {\n",
              "      --bg-color: #E8F0FE;\n",
              "      --fill-color: #1967D2;\n",
              "      --hover-bg-color: #E2EBFA;\n",
              "      --hover-fill-color: #174EA6;\n",
              "      --disabled-fill-color: #AAA;\n",
              "      --disabled-bg-color: #DDD;\n",
              "  }\n",
              "\n",
              "  [theme=dark] .colab-df-quickchart {\n",
              "      --bg-color: #3B4455;\n",
              "      --fill-color: #D2E3FC;\n",
              "      --hover-bg-color: #434B5C;\n",
              "      --hover-fill-color: #FFFFFF;\n",
              "      --disabled-bg-color: #3B4455;\n",
              "      --disabled-fill-color: #666;\n",
              "  }\n",
              "\n",
              "  .colab-df-quickchart {\n",
              "    background-color: var(--bg-color);\n",
              "    border: none;\n",
              "    border-radius: 50%;\n",
              "    cursor: pointer;\n",
              "    display: none;\n",
              "    fill: var(--fill-color);\n",
              "    height: 32px;\n",
              "    padding: 0;\n",
              "    width: 32px;\n",
              "  }\n",
              "\n",
              "  .colab-df-quickchart:hover {\n",
              "    background-color: var(--hover-bg-color);\n",
              "    box-shadow: 0 1px 2px rgba(60, 64, 67, 0.3), 0 1px 3px 1px rgba(60, 64, 67, 0.15);\n",
              "    fill: var(--button-hover-fill-color);\n",
              "  }\n",
              "\n",
              "  .colab-df-quickchart-complete:disabled,\n",
              "  .colab-df-quickchart-complete:disabled:hover {\n",
              "    background-color: var(--disabled-bg-color);\n",
              "    fill: var(--disabled-fill-color);\n",
              "    box-shadow: none;\n",
              "  }\n",
              "\n",
              "  .colab-df-spinner {\n",
              "    border: 2px solid var(--fill-color);\n",
              "    border-color: transparent;\n",
              "    border-bottom-color: var(--fill-color);\n",
              "    animation:\n",
              "      spin 1s steps(1) infinite;\n",
              "  }\n",
              "\n",
              "  @keyframes spin {\n",
              "    0% {\n",
              "      border-color: transparent;\n",
              "      border-bottom-color: var(--fill-color);\n",
              "      border-left-color: var(--fill-color);\n",
              "    }\n",
              "    20% {\n",
              "      border-color: transparent;\n",
              "      border-left-color: var(--fill-color);\n",
              "      border-top-color: var(--fill-color);\n",
              "    }\n",
              "    30% {\n",
              "      border-color: transparent;\n",
              "      border-left-color: var(--fill-color);\n",
              "      border-top-color: var(--fill-color);\n",
              "      border-right-color: var(--fill-color);\n",
              "    }\n",
              "    40% {\n",
              "      border-color: transparent;\n",
              "      border-right-color: var(--fill-color);\n",
              "      border-top-color: var(--fill-color);\n",
              "    }\n",
              "    60% {\n",
              "      border-color: transparent;\n",
              "      border-right-color: var(--fill-color);\n",
              "    }\n",
              "    80% {\n",
              "      border-color: transparent;\n",
              "      border-right-color: var(--fill-color);\n",
              "      border-bottom-color: var(--fill-color);\n",
              "    }\n",
              "    90% {\n",
              "      border-color: transparent;\n",
              "      border-bottom-color: var(--fill-color);\n",
              "    }\n",
              "  }\n",
              "</style>\n",
              "\n",
              "  <script>\n",
              "    async function quickchart(key) {\n",
              "      const quickchartButtonEl =\n",
              "        document.querySelector('#' + key + ' button');\n",
              "      quickchartButtonEl.disabled = true;  // To prevent multiple clicks.\n",
              "      quickchartButtonEl.classList.add('colab-df-spinner');\n",
              "      try {\n",
              "        const charts = await google.colab.kernel.invokeFunction(\n",
              "            'suggestCharts', [key], {});\n",
              "      } catch (error) {\n",
              "        console.error('Error during call to suggestCharts:', error);\n",
              "      }\n",
              "      quickchartButtonEl.classList.remove('colab-df-spinner');\n",
              "      quickchartButtonEl.classList.add('colab-df-quickchart-complete');\n",
              "    }\n",
              "    (() => {\n",
              "      let quickchartButtonEl =\n",
              "        document.querySelector('#df-0e04842c-1e9a-4663-9041-3e1ae22e5c4b button');\n",
              "      quickchartButtonEl.style.display =\n",
              "        google.colab.kernel.accessAllowed ? 'block' : 'none';\n",
              "    })();\n",
              "  </script>\n",
              "</div>\n",
              "\n",
              "  <div id=\"id_070ec9dd-2eae-41d7-9fb8-f36facab50fb\">\n",
              "    <style>\n",
              "      .colab-df-generate {\n",
              "        background-color: #E8F0FE;\n",
              "        border: none;\n",
              "        border-radius: 50%;\n",
              "        cursor: pointer;\n",
              "        display: none;\n",
              "        fill: #1967D2;\n",
              "        height: 32px;\n",
              "        padding: 0 0 0 0;\n",
              "        width: 32px;\n",
              "      }\n",
              "\n",
              "      .colab-df-generate:hover {\n",
              "        background-color: #E2EBFA;\n",
              "        box-shadow: 0px 1px 2px rgba(60, 64, 67, 0.3), 0px 1px 3px 1px rgba(60, 64, 67, 0.15);\n",
              "        fill: #174EA6;\n",
              "      }\n",
              "\n",
              "      [theme=dark] .colab-df-generate {\n",
              "        background-color: #3B4455;\n",
              "        fill: #D2E3FC;\n",
              "      }\n",
              "\n",
              "      [theme=dark] .colab-df-generate:hover {\n",
              "        background-color: #434B5C;\n",
              "        box-shadow: 0px 1px 3px 1px rgba(0, 0, 0, 0.15);\n",
              "        filter: drop-shadow(0px 1px 2px rgba(0, 0, 0, 0.3));\n",
              "        fill: #FFFFFF;\n",
              "      }\n",
              "    </style>\n",
              "    <button class=\"colab-df-generate\" onclick=\"generateWithVariable('all_results')\"\n",
              "            title=\"Generate code using this dataframe.\"\n",
              "            style=\"display:none;\">\n",
              "\n",
              "  <svg xmlns=\"http://www.w3.org/2000/svg\" height=\"24px\"viewBox=\"0 0 24 24\"\n",
              "       width=\"24px\">\n",
              "    <path d=\"M7,19H8.4L18.45,9,17,7.55,7,17.6ZM5,21V16.75L18.45,3.32a2,2,0,0,1,2.83,0l1.4,1.43a1.91,1.91,0,0,1,.58,1.4,1.91,1.91,0,0,1-.58,1.4L9.25,21ZM18.45,9,17,7.55Zm-12,3A5.31,5.31,0,0,0,4.9,8.1,5.31,5.31,0,0,0,1,6.5,5.31,5.31,0,0,0,4.9,4.9,5.31,5.31,0,0,0,6.5,1,5.31,5.31,0,0,0,8.1,4.9,5.31,5.31,0,0,0,12,6.5,5.46,5.46,0,0,0,6.5,12Z\"/>\n",
              "  </svg>\n",
              "    </button>\n",
              "    <script>\n",
              "      (() => {\n",
              "      const buttonEl =\n",
              "        document.querySelector('#id_070ec9dd-2eae-41d7-9fb8-f36facab50fb button.colab-df-generate');\n",
              "      buttonEl.style.display =\n",
              "        google.colab.kernel.accessAllowed ? 'block' : 'none';\n",
              "\n",
              "      buttonEl.onclick = () => {\n",
              "        google.colab.notebook.generateWithVariable('all_results');\n",
              "      }\n",
              "      })();\n",
              "    </script>\n",
              "  </div>\n",
              "\n",
              "    </div>\n",
              "  </div>\n"
            ],
            "application/vnd.google.colaboratory.intrinsic+json": {
              "type": "dataframe",
              "variable_name": "all_results",
              "summary": "{\n  \"name\": \"all_results\",\n  \"rows\": 3,\n  \"fields\": [\n    {\n      \"column\": \"model\",\n      \"properties\": {\n        \"dtype\": \"string\",\n        \"samples\": [\n          \"model_1\",\n          \"model_2\",\n          \"model_3\"\n        ],\n        \"num_unique_values\": 3,\n        \"semantic_type\": \"\",\n        \"description\": \"\"\n      }\n    },\n    {\n      \"column\": \"mae\",\n      \"properties\": {\n        \"dtype\": \"float32\",\n        \"samples\": [\n          30.538000106811523,\n          13.213346481323242,\n          79.12956237792969\n        ],\n        \"num_unique_values\": 3,\n        \"semantic_type\": \"\",\n        \"description\": \"\"\n      }\n    },\n    {\n      \"column\": \"mse\",\n      \"properties\": {\n        \"dtype\": \"float32\",\n        \"samples\": [\n          942.9212036132812,\n          184.560546875,\n          79.12956237792969\n        ],\n        \"num_unique_values\": 3,\n        \"semantic_type\": \"\",\n        \"description\": \"\"\n      }\n    }\n  ]\n}"
            }
          },
          "metadata": {},
          "execution_count": 146
        }
      ]
    },
    {
      "cell_type": "markdown",
      "source": [
        "Training new model"
      ],
      "metadata": {
        "id": "G_sJB-EeP4lh"
      }
    },
    {
      "cell_type": "code",
      "source": [
        "tf.random.set_seed(42)\n",
        "# Create a model  using the Sequential API\n",
        "model_5 = tf.keras.Sequential([\n",
        "    tf.keras.layers.Dense(100, activation=\"relu\"),\n",
        "    tf.keras.layers.Dense(100, activation=\"relu\"),\n",
        "    tf.keras.layers.Dense(100, activation=\"relu\"),\n",
        "    tf.keras.layers.Dense(1)\n",
        "])\n",
        "\n",
        "# Compile the model\n",
        "\n",
        "model_5.compile(loss= tf.keras.losses.mae,\n",
        "              optimizer = tf.keras.optimizers.Adam(learning_rate = 1e-3),\n",
        "              metrics = [\"mae\"])\n",
        "\n",
        "# Reshape X to have two dimensions\n",
        "X_reshaped = tf.reshape(X, (-1, 1))  # Assuming you have one feature per sample\n",
        "\n",
        "# Fit the model with the reshaped input data\n",
        "start = time.time()\n",
        "model_5.fit(X_reshaped, y, epochs=150)\n",
        "end = time.time()\n",
        "print(f\"Total training time: {(end-start)/60} minutes\")\n",
        "\n"
      ],
      "metadata": {
        "id": "d6_yZjUYPgyq"
      },
      "execution_count": null,
      "outputs": []
    },
    {
      "cell_type": "code",
      "source": [
        "import numpy as np\n",
        "\n",
        "# Example reshaping X_test\n",
        "X_test_reshaped = np.expand_dims(X_test, axis=1)  # Assuming X_test is a one-dimensional array\n",
        "\n",
        "# Now, you can use X_test_reshaped to make predictions\n",
        "y_preds_5 = model_5.predict(X_test_reshaped)\n",
        "plot_predictions(predictions=y_preds_5)"
      ],
      "metadata": {
        "colab": {
          "base_uri": "https://localhost:8080/",
          "height": 616
        },
        "id": "O2BgYT54PzPp",
        "outputId": "235f5ea2-120a-47dd-d2bd-50d8b8ad4c11"
      },
      "execution_count": 148,
      "outputs": [
        {
          "output_type": "stream",
          "name": "stdout",
          "text": [
            "1/1 [==============================] - 0s 84ms/step\n"
          ]
        },
        {
          "output_type": "display_data",
          "data": {
            "text/plain": [
              "<Figure size 1000x700 with 1 Axes>"
            ],
            "image/png": "[encoded data removed]"
          },
          "metadata": {}
        }
      ]
    },
    {
      "cell_type": "code",
      "source": [
        "# Calculate model_3 metrics\n",
        "mae_5 = mae(y_test, y_preds_5.squeeze()).numpy()\n",
        "mse_5 = mse(y_test, y_preds_5.squeeze()).numpy()\n",
        "mae_5, mse_5"
      ],
      "metadata": {
        "colab": {
          "base_uri": "https://localhost:8080/"
        },
        "id": "31BLydqcQA09",
        "outputId": "f27e48be-a7e6-4c3e-a0df-62e3ecbdfe2d"
      },
      "execution_count": 149,
      "outputs": [
        {
          "output_type": "execute_result",
          "data": {
            "text/plain": [
              "(1.3862549, 2.2722642)"
            ]
          },
          "metadata": {},
          "execution_count": 149
        }
      ]
    },
    {
      "cell_type": "markdown",
      "source": [
        "Comparing and Tracking multiple experiments"
      ],
      "metadata": {
        "id": "hQMrh28MQHWh"
      }
    },
    {
      "cell_type": "markdown",
      "source": [
        "You want to start with small experiments(small models) and incrase them as needed"
      ],
      "metadata": {
        "id": "Mulbf9HcQO74"
      }
    },
    {
      "cell_type": "code",
      "source": [
        "model_5.save('best_model_SavedModel_format')\n"
      ],
      "metadata": {
        "id": "Z5weFno0QimJ"
      },
      "execution_count": 150,
      "outputs": []
    },
    {
      "cell_type": "code",
      "source": [
        "!ls best_model_SavedModel_format\n"
      ],
      "metadata": {
        "colab": {
          "base_uri": "https://localhost:8080/"
        },
        "id": "m9QPsCxiQwYT",
        "outputId": "53dbea5c-7434-47c8-b5ce-5f3839ddd28b"
      },
      "execution_count": 151,
      "outputs": [
        {
          "output_type": "stream",
          "name": "stdout",
          "text": [
            "assets\tfingerprint.pb\tkeras_metadata.pb  saved_model.pb  variables\n"
          ]
        }
      ]
    },
    {
      "cell_type": "code",
      "source": [
        "model_5.save(\"best_model_HDF5_format.h5\") # note the addition of '.h5' on the end\n"
      ],
      "metadata": {
        "colab": {
          "base_uri": "https://localhost:8080/"
        },
        "id": "9uvRt0nMQzwZ",
        "outputId": "b52b15e0-fd42-4316-950a-fd2fcf8a8ada"
      },
      "execution_count": 152,
      "outputs": [
        {
          "output_type": "stream",
          "name": "stderr",
          "text": [
            "/usr/local/lib/python3.10/dist-packages/keras/src/engine/training.py:3103: UserWarning: You are saving your model as an HDF5 file via `model.save()`. This file format is considered legacy. We recommend using instead the native Keras format, e.g. `model.save('my_model.keras')`.\n",
            "  saving_api.save_model(\n"
          ]
        }
      ]
    },
    {
      "cell_type": "code",
      "source": [
        "\n",
        "\n",
        "# Load a model from the SavedModel format\n",
        "loaded_saved_model = tf.keras.models.load_model(\"best_model_SavedModel_format\")\n",
        "loaded_saved_model.summary()"
      ],
      "metadata": {
        "colab": {
          "base_uri": "https://localhost:8080/"
        },
        "id": "d4FE0vPeQ3YO",
        "outputId": "cafeb804-3263-4d93-c80f-209f98f36465"
      },
      "execution_count": 155,
      "outputs": [
        {
          "output_type": "stream",
          "name": "stdout",
          "text": [
            "Model: \"sequential_38\"\n",
            "_________________________________________________________________\n",
            " Layer (type)                Output Shape              Param #   \n",
            "=================================================================\n",
            " dense_82 (Dense)            (None, 100)               200       \n",
            "                                                                 \n",
            " dense_83 (Dense)            (None, 100)               10100     \n",
            "                                                                 \n",
            " dense_84 (Dense)            (None, 100)               10100     \n",
            "                                                                 \n",
            " dense_85 (Dense)            (None, 1)                 101       \n",
            "                                                                 \n",
            "=================================================================\n",
            "Total params: 20501 (80.08 KB)\n",
            "Trainable params: 20501 (80.08 KB)\n",
            "Non-trainable params: 0 (0.00 Byte)\n",
            "_________________________________________________________________\n"
          ]
        }
      ]
    },
    {
      "cell_type": "code",
      "source": [
        "\n",
        "# Load a model from the HDF5 format\n",
        "loaded_h5_model = tf.keras.models.load_model(\"best_model_HDF5_format.h5\")\n",
        "loaded_h5_model.summary()"
      ],
      "metadata": {
        "colab": {
          "base_uri": "https://localhost:8080/"
        },
        "id": "aJJL6dczQ-xN",
        "outputId": "14357421-c172-44f0-e5ae-9c19a9e3a1d6"
      },
      "execution_count": 157,
      "outputs": [
        {
          "output_type": "stream",
          "name": "stdout",
          "text": [
            "Model: \"sequential_38\"\n",
            "_________________________________________________________________\n",
            " Layer (type)                Output Shape              Param #   \n",
            "=================================================================\n",
            " dense_82 (Dense)            (None, 100)               200       \n",
            "                                                                 \n",
            " dense_83 (Dense)            (None, 100)               10100     \n",
            "                                                                 \n",
            " dense_84 (Dense)            (None, 100)               10100     \n",
            "                                                                 \n",
            " dense_85 (Dense)            (None, 1)                 101       \n",
            "                                                                 \n",
            "=================================================================\n",
            "Total params: 20501 (80.08 KB)\n",
            "Trainable params: 20501 (80.08 KB)\n",
            "Non-trainable params: 0 (0.00 Byte)\n",
            "_________________________________________________________________\n"
          ]
        }
      ]
    },
    {
      "cell_type": "markdown",
      "source": [
        "Preparing a dataset"
      ],
      "metadata": {
        "id": "SCAPgF4TRFV3"
      }
    },
    {
      "cell_type": "code",
      "source": [
        "import pandas as pd\n",
        "import matplotlib.pyplot as plt\n",
        "import tensorflow as tf\n",
        "\n",
        "# Read in the insurance dataset\n",
        "insurance = pd.read_csv(\"https://raw.githubusercontent.com/stedy/Machine-Learning-with-R-datasets/master/insurance.csv\")\n",
        ""
      ],
      "metadata": {
        "id": "K2YeNJp2RUyW"
      },
      "execution_count": 158,
      "outputs": []
    },
    {
      "cell_type": "code",
      "source": [
        "insurance.head()"
      ],
      "metadata": {
        "colab": {
          "base_uri": "https://localhost:8080/",
          "height": 206
        },
        "id": "tj9ZEdKjR6G9",
        "outputId": "1227a876-34ff-4926-fc18-0507de219c24"
      },
      "execution_count": 159,
      "outputs": [
        {
          "output_type": "execute_result",
          "data": {
            "text/plain": [
              "   age     sex     bmi  children smoker     region      charges\n",
              "0   19  female  27.900         0    yes  southwest  16884.92400\n",
              "1   18    male  33.770         1     no  southeast   1725.55230\n",
              "2   28    male  33.000         3     no  southeast   4449.46200\n",
              "3   33    male  22.705         0     no  northwest  21984.47061\n",
              "4   32    male  28.880         0     no  northwest   3866.85520"
            ],
            "text/html": [
              "\n",
              "  <div id=\"df-63fb6fb4-d626-40fd-a766-49c642574712\" class=\"colab-df-container\">\n",
              "    <div>\n",
              "<style scoped>\n",
              "    .dataframe tbody tr th:only-of-type {\n",
              "        vertical-align: middle;\n",
              "    }\n",
              "\n",
              "    .dataframe tbody tr th {\n",
              "        vertical-align: top;\n",
              "    }\n",
              "\n",
              "    .dataframe thead th {\n",
              "        text-align: right;\n",
              "    }\n",
              "</style>\n",
              "<table border=\"1\" class=\"dataframe\">\n",
              "  <thead>\n",
              "    <tr style=\"text-align: right;\">\n",
              "      <th></th>\n",
              "      <th>age</th>\n",
              "      <th>sex</th>\n",
              "      <th>bmi</th>\n",
              "      <th>children</th>\n",
              "      <th>smoker</th>\n",
              "      <th>region</th>\n",
              "      <th>charges</th>\n",
              "    </tr>\n",
              "  </thead>\n",
              "  <tbody>\n",
              "    <tr>\n",
              "      <th>0</th>\n",
              "      <td>19</td>\n",
              "      <td>female</td>\n",
              "      <td>27.900</td>\n",
              "      <td>0</td>\n",
              "      <td>yes</td>\n",
              "      <td>southwest</td>\n",
              "      <td>16884.92400</td>\n",
              "    </tr>\n",
              "    <tr>\n",
              "      <th>1</th>\n",
              "      <td>18</td>\n",
              "      <td>male</td>\n",
              "      <td>33.770</td>\n",
              "      <td>1</td>\n",
              "      <td>no</td>\n",
              "      <td>southeast</td>\n",
              "      <td>1725.55230</td>\n",
              "    </tr>\n",
              "    <tr>\n",
              "      <th>2</th>\n",
              "      <td>28</td>\n",
              "      <td>male</td>\n",
              "      <td>33.000</td>\n",
              "      <td>3</td>\n",
              "      <td>no</td>\n",
              "      <td>southeast</td>\n",
              "      <td>4449.46200</td>\n",
              "    </tr>\n",
              "    <tr>\n",
              "      <th>3</th>\n",
              "      <td>33</td>\n",
              "      <td>male</td>\n",
              "      <td>22.705</td>\n",
              "      <td>0</td>\n",
              "      <td>no</td>\n",
              "      <td>northwest</td>\n",
              "      <td>21984.47061</td>\n",
              "    </tr>\n",
              "    <tr>\n",
              "      <th>4</th>\n",
              "      <td>32</td>\n",
              "      <td>male</td>\n",
              "      <td>28.880</td>\n",
              "      <td>0</td>\n",
              "      <td>no</td>\n",
              "      <td>northwest</td>\n",
              "      <td>3866.85520</td>\n",
              "    </tr>\n",
              "  </tbody>\n",
              "</table>\n",
              "</div>\n",
              "    <div class=\"colab-df-buttons\">\n",
              "\n",
              "  <div class=\"colab-df-container\">\n",
              "    <button class=\"colab-df-convert\" onclick=\"convertToInteractive('df-63fb6fb4-d626-40fd-a766-49c642574712')\"\n",
              "            title=\"Convert this dataframe to an interactive table.\"\n",
              "            style=\"display:none;\">\n",
              "\n",
              "  <svg xmlns=\"http://www.w3.org/2000/svg\" height=\"24px\" viewBox=\"0 -960 960 960\">\n",
              "    <path d=\"M120-120v-720h720v720H120Zm60-500h600v-160H180v160Zm220 220h160v-160H400v160Zm0 220h160v-160H400v160ZM180-400h160v-160H180v160Zm440 0h160v-160H620v160ZM180-180h160v-160H180v160Zm440 0h160v-160H620v160Z\"/>\n",
              "  </svg>\n",
              "    </button>\n",
              "\n",
              "  <style>\n",
              "    .colab-df-container {\n",
              "      display:flex;\n",
              "      gap: 12px;\n",
              "    }\n",
              "\n",
              "    .colab-df-convert {\n",
              "      background-color: #E8F0FE;\n",
              "      border: none;\n",
              "      border-radius: 50%;\n",
              "      cursor: pointer;\n",
              "      display: none;\n",
              "      fill: #1967D2;\n",
              "      height: 32px;\n",
              "      padding: 0 0 0 0;\n",
              "      width: 32px;\n",
              "    }\n",
              "\n",
              "    .colab-df-convert:hover {\n",
              "      background-color: #E2EBFA;\n",
              "      box-shadow: 0px 1px 2px rgba(60, 64, 67, 0.3), 0px 1px 3px 1px rgba(60, 64, 67, 0.15);\n",
              "      fill: #174EA6;\n",
              "    }\n",
              "\n",
              "    .colab-df-buttons div {\n",
              "      margin-bottom: 4px;\n",
              "    }\n",
              "\n",
              "    [theme=dark] .colab-df-convert {\n",
              "      background-color: #3B4455;\n",
              "      fill: #D2E3FC;\n",
              "    }\n",
              "\n",
              "    [theme=dark] .colab-df-convert:hover {\n",
              "      background-color: #434B5C;\n",
              "      box-shadow: 0px 1px 3px 1px rgba(0, 0, 0, 0.15);\n",
              "      filter: drop-shadow(0px 1px 2px rgba(0, 0, 0, 0.3));\n",
              "      fill: #FFFFFF;\n",
              "    }\n",
              "  </style>\n",
              "\n",
              "    <script>\n",
              "      const buttonEl =\n",
              "        document.querySelector('#df-63fb6fb4-d626-40fd-a766-49c642574712 button.colab-df-convert');\n",
              "      buttonEl.style.display =\n",
              "        google.colab.kernel.accessAllowed ? 'block' : 'none';\n",
              "\n",
              "      async function convertToInteractive(key) {\n",
              "        const element = document.querySelector('#df-63fb6fb4-d626-40fd-a766-49c642574712');\n",
              "        const dataTable =\n",
              "          await google.colab.kernel.invokeFunction('convertToInteractive',\n",
              "                                                    [key], {});\n",
              "        if (!dataTable) return;\n",
              "\n",
              "        const docLinkHtml = 'Like what you see? Visit the ' +\n",
              "          '<a target=\"_blank\" href=https://colab.research.google.com/notebooks/data_table.ipynb>data table notebook</a>'\n",
              "          + ' to learn more about interactive tables.';\n",
              "        element.innerHTML = '';\n",
              "        dataTable['output_type'] = 'display_data';\n",
              "        await google.colab.output.renderOutput(dataTable, element);\n",
              "        const docLink = document.createElement('div');\n",
              "        docLink.innerHTML = docLinkHtml;\n",
              "        element.appendChild(docLink);\n",
              "      }\n",
              "    </script>\n",
              "  </div>\n",
              "\n",
              "\n",
              "<div id=\"df-40adb6ed-5fc6-44cc-aba3-72ba9b1392c9\">\n",
              "  <button class=\"colab-df-quickchart\" onclick=\"quickchart('df-40adb6ed-5fc6-44cc-aba3-72ba9b1392c9')\"\n",
              "            title=\"Suggest charts\"\n",
              "            style=\"display:none;\">\n",
              "\n",
              "<svg xmlns=\"http://www.w3.org/2000/svg\" height=\"24px\"viewBox=\"0 0 24 24\"\n",
              "     width=\"24px\">\n",
              "    <g>\n",
              "        <path d=\"M19 3H5c-1.1 0-2 .9-2 2v14c0 1.1.9 2 2 2h14c1.1 0 2-.9 2-2V5c0-1.1-.9-2-2-2zM9 17H7v-7h2v7zm4 0h-2V7h2v10zm4 0h-2v-4h2v4z\"/>\n",
              "    </g>\n",
              "</svg>\n",
              "  </button>\n",
              "\n",
              "<style>\n",
              "  .colab-df-quickchart {\n",
              "      --bg-color: #E8F0FE;\n",
              "      --fill-color: #1967D2;\n",
              "      --hover-bg-color: #E2EBFA;\n",
              "      --hover-fill-color: #174EA6;\n",
              "      --disabled-fill-color: #AAA;\n",
              "      --disabled-bg-color: #DDD;\n",
              "  }\n",
              "\n",
              "  [theme=dark] .colab-df-quickchart {\n",
              "      --bg-color: #3B4455;\n",
              "      --fill-color: #D2E3FC;\n",
              "      --hover-bg-color: #434B5C;\n",
              "      --hover-fill-color: #FFFFFF;\n",
              "      --disabled-bg-color: #3B4455;\n",
              "      --disabled-fill-color: #666;\n",
              "  }\n",
              "\n",
              "  .colab-df-quickchart {\n",
              "    background-color: var(--bg-color);\n",
              "    border: none;\n",
              "    border-radius: 50%;\n",
              "    cursor: pointer;\n",
              "    display: none;\n",
              "    fill: var(--fill-color);\n",
              "    height: 32px;\n",
              "    padding: 0;\n",
              "    width: 32px;\n",
              "  }\n",
              "\n",
              "  .colab-df-quickchart:hover {\n",
              "    background-color: var(--hover-bg-color);\n",
              "    box-shadow: 0 1px 2px rgba(60, 64, 67, 0.3), 0 1px 3px 1px rgba(60, 64, 67, 0.15);\n",
              "    fill: var(--button-hover-fill-color);\n",
              "  }\n",
              "\n",
              "  .colab-df-quickchart-complete:disabled,\n",
              "  .colab-df-quickchart-complete:disabled:hover {\n",
              "    background-color: var(--disabled-bg-color);\n",
              "    fill: var(--disabled-fill-color);\n",
              "    box-shadow: none;\n",
              "  }\n",
              "\n",
              "  .colab-df-spinner {\n",
              "    border: 2px solid var(--fill-color);\n",
              "    border-color: transparent;\n",
              "    border-bottom-color: var(--fill-color);\n",
              "    animation:\n",
              "      spin 1s steps(1) infinite;\n",
              "  }\n",
              "\n",
              "  @keyframes spin {\n",
              "    0% {\n",
              "      border-color: transparent;\n",
              "      border-bottom-color: var(--fill-color);\n",
              "      border-left-color: var(--fill-color);\n",
              "    }\n",
              "    20% {\n",
              "      border-color: transparent;\n",
              "      border-left-color: var(--fill-color);\n",
              "      border-top-color: var(--fill-color);\n",
              "    }\n",
              "    30% {\n",
              "      border-color: transparent;\n",
              "      border-left-color: var(--fill-color);\n",
              "      border-top-color: var(--fill-color);\n",
              "      border-right-color: var(--fill-color);\n",
              "    }\n",
              "    40% {\n",
              "      border-color: transparent;\n",
              "      border-right-color: var(--fill-color);\n",
              "      border-top-color: var(--fill-color);\n",
              "    }\n",
              "    60% {\n",
              "      border-color: transparent;\n",
              "      border-right-color: var(--fill-color);\n",
              "    }\n",
              "    80% {\n",
              "      border-color: transparent;\n",
              "      border-right-color: var(--fill-color);\n",
              "      border-bottom-color: var(--fill-color);\n",
              "    }\n",
              "    90% {\n",
              "      border-color: transparent;\n",
              "      border-bottom-color: var(--fill-color);\n",
              "    }\n",
              "  }\n",
              "</style>\n",
              "\n",
              "  <script>\n",
              "    async function quickchart(key) {\n",
              "      const quickchartButtonEl =\n",
              "        document.querySelector('#' + key + ' button');\n",
              "      quickchartButtonEl.disabled = true;  // To prevent multiple clicks.\n",
              "      quickchartButtonEl.classList.add('colab-df-spinner');\n",
              "      try {\n",
              "        const charts = await google.colab.kernel.invokeFunction(\n",
              "            'suggestCharts', [key], {});\n",
              "      } catch (error) {\n",
              "        console.error('Error during call to suggestCharts:', error);\n",
              "      }\n",
              "      quickchartButtonEl.classList.remove('colab-df-spinner');\n",
              "      quickchartButtonEl.classList.add('colab-df-quickchart-complete');\n",
              "    }\n",
              "    (() => {\n",
              "      let quickchartButtonEl =\n",
              "        document.querySelector('#df-40adb6ed-5fc6-44cc-aba3-72ba9b1392c9 button');\n",
              "      quickchartButtonEl.style.display =\n",
              "        google.colab.kernel.accessAllowed ? 'block' : 'none';\n",
              "    })();\n",
              "  </script>\n",
              "</div>\n",
              "\n",
              "    </div>\n",
              "  </div>\n"
            ],
            "application/vnd.google.colaboratory.intrinsic+json": {
              "type": "dataframe",
              "variable_name": "insurance",
              "summary": "{\n  \"name\": \"insurance\",\n  \"rows\": 1338,\n  \"fields\": [\n    {\n      \"column\": \"age\",\n      \"properties\": {\n        \"dtype\": \"number\",\n        \"std\": 14,\n        \"min\": 18,\n        \"max\": 64,\n        \"samples\": [\n          21,\n          45,\n          36\n        ],\n        \"num_unique_values\": 47,\n        \"semantic_type\": \"\",\n        \"description\": \"\"\n      }\n    },\n    {\n      \"column\": \"sex\",\n      \"properties\": {\n        \"dtype\": \"category\",\n        \"samples\": [\n          \"male\",\n          \"female\"\n        ],\n        \"num_unique_values\": 2,\n        \"semantic_type\": \"\",\n        \"description\": \"\"\n      }\n    },\n    {\n      \"column\": \"bmi\",\n      \"properties\": {\n        \"dtype\": \"number\",\n        \"std\": 6.098186911679014,\n        \"min\": 15.96,\n        \"max\": 53.13,\n        \"samples\": [\n          23.18,\n          26.885\n        ],\n        \"num_unique_values\": 548,\n        \"semantic_type\": \"\",\n        \"description\": \"\"\n      }\n    },\n    {\n      \"column\": \"children\",\n      \"properties\": {\n        \"dtype\": \"number\",\n        \"std\": 1,\n        \"min\": 0,\n        \"max\": 5,\n        \"samples\": [\n          0,\n          1\n        ],\n        \"num_unique_values\": 6,\n        \"semantic_type\": \"\",\n        \"description\": \"\"\n      }\n    },\n    {\n      \"column\": \"smoker\",\n      \"properties\": {\n        \"dtype\": \"category\",\n        \"samples\": [\n          \"no\",\n          \"yes\"\n        ],\n        \"num_unique_values\": 2,\n        \"semantic_type\": \"\",\n        \"description\": \"\"\n      }\n    },\n    {\n      \"column\": \"region\",\n      \"properties\": {\n        \"dtype\": \"category\",\n        \"samples\": [\n          \"southeast\",\n          \"northeast\"\n        ],\n        \"num_unique_values\": 4,\n        \"semantic_type\": \"\",\n        \"description\": \"\"\n      }\n    },\n    {\n      \"column\": \"charges\",\n      \"properties\": {\n        \"dtype\": \"number\",\n        \"std\": 12110.011236694001,\n        \"min\": 1121.8739,\n        \"max\": 63770.42801,\n        \"samples\": [\n          8688.85885,\n          5708.867\n        ],\n        \"num_unique_values\": 1337,\n        \"semantic_type\": \"\",\n        \"description\": \"\"\n      }\n    }\n  ]\n}"
            }
          },
          "metadata": {},
          "execution_count": 159
        }
      ]
    },
    {
      "cell_type": "code",
      "source": [],
      "metadata": {
        "id": "VDtIp7viSBK7"
      },
      "execution_count": null,
      "outputs": []
    },
    {
      "cell_type": "code",
      "source": [
        "from sklearn.compose import make_column_transformer\n",
        "from sklearn.preprocessing import MinMaxScaler, OneHotEncoder\n",
        "from sklearn.model_selection import train_test_split\n",
        "\n",
        "# Create column transformer (this will help us normalize/preprocess our data)\n",
        "ct = make_column_transformer(\n",
        "    (MinMaxScaler(), [\"age\", \"bmi\", \"children\"]), # get all values between 0 and 1\n",
        "    (OneHotEncoder(handle_unknown=\"ignore\"), [\"sex\", \"smoker\", \"region\"])\n",
        ")\n",
        "\n",
        "# Create X & y\n",
        "X = insurance.drop(\"charges\", axis=1)\n",
        "y = insurance[\"charges\"]\n",
        "\n",
        "# Build our train and test sets (use random state to ensure same split as before)\n",
        "X_train, X_test, y_train, y_test = train_test_split(X, y, test_size=0.2, random_state=42)\n",
        "\n",
        "# Fit column transformer on the training data only (doing so on test data would result in data leakage)\n",
        "ct.fit(X_train)\n",
        "\n",
        "# Transform training and test data with normalization (MinMaxScalar) and one hot encoding (OneHotEncoder)\n",
        "X_train_normal = ct.transform(X_train)\n",
        "X_test_normal = ct.transform(X_test)"
      ],
      "metadata": {
        "id": "rQr3UIgwR7li"
      },
      "execution_count": 162,
      "outputs": []
    },
    {
      "cell_type": "code",
      "source": [
        "tf.random.set_seed(42)\n",
        "\n",
        "# Build the model (3 layers, 100, 10, 1 units)\n",
        "insurance_model_3 = tf.keras.Sequential([\n",
        "  tf.keras.layers.Dense(100, activation=\"relu\"),\n",
        "    tf.keras.layers.Dense(100, activation=\"relu\"),\n",
        "    tf.keras.layers.Dense(100, activation=\"relu\"),\n",
        "    tf.keras.layers.Dense(1)\n",
        "])\n",
        "\n",
        "# Compile the model\n",
        "insurance_model_3.compile(loss=tf.keras.losses.mae,\n",
        "                          optimizer=tf.keras.optimizers.Adam(),\n",
        "                          metrics=['mae'])\n",
        "\n",
        "# Fit the model for 200 epochs (same as insurance_model_2)\n",
        "insurance_model_3.fit(X_train_normal, y_train, epochs=500)"
      ],
      "metadata": {
        "colab": {
          "base_uri": "https://localhost:8080/"
        },
        "id": "iDXt9BYOR_8b",
        "outputId": "4caa3692-fea2-41f2-9b3a-5402b727bedd"
      },
      "execution_count": 171,
      "outputs": [
        {
          "output_type": "stream",
          "name": "stdout",
          "text": [
            "Epoch 1/500\n",
            "34/34 [==============================] - 2s 4ms/step - loss: 13340.8633 - mae: 13340.8633\n",
            "Epoch 2/500\n",
            "34/34 [==============================] - 0s 3ms/step - loss: 13251.0039 - mae: 13251.0039\n",
            "Epoch 3/500\n",
            "34/34 [==============================] - 0s 3ms/step - loss: 12559.5986 - mae: 12559.5986\n",
            "Epoch 4/500\n",
            "34/34 [==============================] - 0s 4ms/step - loss: 10152.4268 - mae: 10152.4268\n",
            "Epoch 5/500\n",
            "34/34 [==============================] - 0s 3ms/step - loss: 8126.0142 - mae: 8126.0142\n",
            "Epoch 6/500\n",
            "34/34 [==============================] - 0s 3ms/step - loss: 7812.0020 - mae: 7812.0020\n",
            "Epoch 7/500\n",
            "34/34 [==============================] - 0s 3ms/step - loss: 7567.1255 - mae: 7567.1255\n",
            "Epoch 8/500\n",
            "34/34 [==============================] - 0s 3ms/step - loss: 7308.2773 - mae: 7308.2773\n",
            "Epoch 9/500\n",
            "34/34 [==============================] - 0s 3ms/step - loss: 7008.4478 - mae: 7008.4478\n",
            "Epoch 10/500\n",
            "34/34 [==============================] - 0s 3ms/step - loss: 6632.0142 - mae: 6632.0142\n",
            "Epoch 11/500\n",
            "34/34 [==============================] - 0s 3ms/step - loss: 6157.3750 - mae: 6157.3750\n",
            "Epoch 12/500\n",
            "34/34 [==============================] - 0s 4ms/step - loss: 5533.3281 - mae: 5533.3281\n",
            "Epoch 13/500\n",
            "34/34 [==============================] - 0s 4ms/step - loss: 4828.6250 - mae: 4828.6250\n",
            "Epoch 14/500\n",
            "34/34 [==============================] - 0s 3ms/step - loss: 4242.9780 - mae: 4242.9780\n",
            "Epoch 15/500\n",
            "34/34 [==============================] - 0s 3ms/step - loss: 3844.8398 - mae: 3844.8398\n",
            "Epoch 16/500\n",
            "34/34 [==============================] - 0s 3ms/step - loss: 3579.0642 - mae: 3579.0642\n",
            "Epoch 17/500\n",
            "34/34 [==============================] - 0s 3ms/step - loss: 3476.7664 - mae: 3476.7664\n",
            "Epoch 18/500\n",
            "34/34 [==============================] - 0s 3ms/step - loss: 3405.4802 - mae: 3405.4802\n",
            "Epoch 19/500\n",
            "34/34 [==============================] - 0s 3ms/step - loss: 3362.2969 - mae: 3362.2969\n",
            "Epoch 20/500\n",
            "34/34 [==============================] - 0s 3ms/step - loss: 3317.3630 - mae: 3317.3630\n",
            "Epoch 21/500\n",
            "34/34 [==============================] - 0s 4ms/step - loss: 3283.2568 - mae: 3283.2568\n",
            "Epoch 22/500\n",
            "34/34 [==============================] - 0s 3ms/step - loss: 3255.1802 - mae: 3255.1802\n",
            "Epoch 23/500\n",
            "34/34 [==============================] - 0s 3ms/step - loss: 3240.0847 - mae: 3240.0847\n",
            "Epoch 24/500\n",
            "34/34 [==============================] - 0s 3ms/step - loss: 3219.4934 - mae: 3219.4934\n",
            "Epoch 25/500\n",
            "34/34 [==============================] - 0s 3ms/step - loss: 3218.0024 - mae: 3218.0024\n",
            "Epoch 26/500\n",
            "34/34 [==============================] - 0s 3ms/step - loss: 3206.0122 - mae: 3206.0122\n",
            "Epoch 27/500\n",
            "34/34 [==============================] - 0s 3ms/step - loss: 3213.3286 - mae: 3213.3286\n",
            "Epoch 28/500\n",
            "34/34 [==============================] - 0s 3ms/step - loss: 3204.7410 - mae: 3204.7410\n",
            "Epoch 29/500\n",
            "34/34 [==============================] - 0s 3ms/step - loss: 3190.9834 - mae: 3190.9834\n",
            "Epoch 30/500\n",
            "34/34 [==============================] - 0s 4ms/step - loss: 3186.7139 - mae: 3186.7139\n",
            "Epoch 31/500\n",
            "34/34 [==============================] - 0s 3ms/step - loss: 3186.8127 - mae: 3186.8127\n",
            "Epoch 32/500\n",
            "34/34 [==============================] - 0s 3ms/step - loss: 3180.1526 - mae: 3180.1526\n",
            "Epoch 33/500\n",
            "34/34 [==============================] - 0s 3ms/step - loss: 3180.6331 - mae: 3180.6331\n",
            "Epoch 34/500\n",
            "34/34 [==============================] - 0s 3ms/step - loss: 3190.1526 - mae: 3190.1526\n",
            "Epoch 35/500\n",
            "34/34 [==============================] - 0s 3ms/step - loss: 3180.8491 - mae: 3180.8491\n",
            "Epoch 36/500\n",
            "34/34 [==============================] - 0s 3ms/step - loss: 3171.3545 - mae: 3171.3545\n",
            "Epoch 37/500\n",
            "34/34 [==============================] - 0s 3ms/step - loss: 3165.0542 - mae: 3165.0542\n",
            "Epoch 38/500\n",
            "34/34 [==============================] - 0s 3ms/step - loss: 3160.0125 - mae: 3160.0125\n",
            "Epoch 39/500\n",
            "34/34 [==============================] - 0s 4ms/step - loss: 3157.8662 - mae: 3157.8662\n",
            "Epoch 40/500\n",
            "34/34 [==============================] - 0s 3ms/step - loss: 3159.4409 - mae: 3159.4409\n",
            "Epoch 41/500\n",
            "34/34 [==============================] - 0s 3ms/step - loss: 3172.4470 - mae: 3172.4470\n",
            "Epoch 42/500\n",
            "34/34 [==============================] - 0s 4ms/step - loss: 3165.5579 - mae: 3165.5579\n",
            "Epoch 43/500\n",
            "34/34 [==============================] - 0s 3ms/step - loss: 3154.2117 - mae: 3154.2117\n",
            "Epoch 44/500\n",
            "34/34 [==============================] - 0s 3ms/step - loss: 3147.7810 - mae: 3147.7810\n",
            "Epoch 45/500\n",
            "34/34 [==============================] - 0s 3ms/step - loss: 3151.5071 - mae: 3151.5071\n",
            "Epoch 46/500\n",
            "34/34 [==============================] - 0s 3ms/step - loss: 3141.9670 - mae: 3141.9670\n",
            "Epoch 47/500\n",
            "34/34 [==============================] - 0s 4ms/step - loss: 3139.8940 - mae: 3139.8940\n",
            "Epoch 48/500\n",
            "34/34 [==============================] - 0s 5ms/step - loss: 3132.6907 - mae: 3132.6907\n",
            "Epoch 49/500\n",
            "34/34 [==============================] - 0s 5ms/step - loss: 3130.7097 - mae: 3130.7097\n",
            "Epoch 50/500\n",
            "34/34 [==============================] - 0s 5ms/step - loss: 3127.3938 - mae: 3127.3938\n",
            "Epoch 51/500\n",
            "34/34 [==============================] - 0s 5ms/step - loss: 3118.0779 - mae: 3118.0779\n",
            "Epoch 52/500\n",
            "34/34 [==============================] - 0s 5ms/step - loss: 3112.3350 - mae: 3112.3350\n",
            "Epoch 53/500\n",
            "34/34 [==============================] - 0s 5ms/step - loss: 3112.0188 - mae: 3112.0188\n",
            "Epoch 54/500\n",
            "34/34 [==============================] - 0s 5ms/step - loss: 3109.0347 - mae: 3109.0347\n",
            "Epoch 55/500\n",
            "34/34 [==============================] - 0s 5ms/step - loss: 3126.4851 - mae: 3126.4851\n",
            "Epoch 56/500\n",
            "34/34 [==============================] - 0s 5ms/step - loss: 3099.8528 - mae: 3099.8528\n",
            "Epoch 57/500\n",
            "34/34 [==============================] - 0s 5ms/step - loss: 3094.2400 - mae: 3094.2400\n",
            "Epoch 58/500\n",
            "34/34 [==============================] - 0s 5ms/step - loss: 3091.6094 - mae: 3091.6094\n",
            "Epoch 59/500\n",
            "34/34 [==============================] - 0s 5ms/step - loss: 3088.5168 - mae: 3088.5168\n",
            "Epoch 60/500\n",
            "34/34 [==============================] - 0s 3ms/step - loss: 3076.2122 - mae: 3076.2122\n",
            "Epoch 61/500\n",
            "34/34 [==============================] - 0s 3ms/step - loss: 3078.0383 - mae: 3078.0383\n",
            "Epoch 62/500\n",
            "34/34 [==============================] - 0s 3ms/step - loss: 3071.6228 - mae: 3071.6228\n",
            "Epoch 63/500\n",
            "34/34 [==============================] - 0s 3ms/step - loss: 3065.7791 - mae: 3065.7791\n",
            "Epoch 64/500\n",
            "34/34 [==============================] - 0s 3ms/step - loss: 3056.3481 - mae: 3056.3481\n",
            "Epoch 65/500\n",
            "34/34 [==============================] - 0s 3ms/step - loss: 3052.5750 - mae: 3052.5750\n",
            "Epoch 66/500\n",
            "34/34 [==============================] - 0s 3ms/step - loss: 3053.0020 - mae: 3053.0020\n",
            "Epoch 67/500\n",
            "34/34 [==============================] - 0s 3ms/step - loss: 3037.7783 - mae: 3037.7783\n",
            "Epoch 68/500\n",
            "34/34 [==============================] - 0s 4ms/step - loss: 3032.4592 - mae: 3032.4592\n",
            "Epoch 69/500\n",
            "34/34 [==============================] - 0s 3ms/step - loss: 3027.7415 - mae: 3027.7415\n",
            "Epoch 70/500\n",
            "34/34 [==============================] - 0s 3ms/step - loss: 3028.1799 - mae: 3028.1799\n",
            "Epoch 71/500\n",
            "34/34 [==============================] - 0s 3ms/step - loss: 3020.9941 - mae: 3020.9941\n",
            "Epoch 72/500\n",
            "34/34 [==============================] - 0s 3ms/step - loss: 3006.4614 - mae: 3006.4614\n",
            "Epoch 73/500\n",
            "34/34 [==============================] - 0s 3ms/step - loss: 3005.4836 - mae: 3005.4836\n",
            "Epoch 74/500\n",
            "34/34 [==============================] - 0s 3ms/step - loss: 2993.6848 - mae: 2993.6848\n",
            "Epoch 75/500\n",
            "34/34 [==============================] - 0s 3ms/step - loss: 2990.0813 - mae: 2990.0813\n",
            "Epoch 76/500\n",
            "34/34 [==============================] - 0s 4ms/step - loss: 2981.6028 - mae: 2981.6028\n",
            "Epoch 77/500\n",
            "34/34 [==============================] - 0s 3ms/step - loss: 2975.4429 - mae: 2975.4429\n",
            "Epoch 78/500\n",
            "34/34 [==============================] - 0s 3ms/step - loss: 2969.6096 - mae: 2969.6096\n",
            "Epoch 79/500\n",
            "34/34 [==============================] - 0s 3ms/step - loss: 2967.8660 - mae: 2967.8660\n",
            "Epoch 80/500\n",
            "34/34 [==============================] - 0s 3ms/step - loss: 2955.1079 - mae: 2955.1079\n",
            "Epoch 81/500\n",
            "34/34 [==============================] - 0s 3ms/step - loss: 2951.0654 - mae: 2951.0654\n",
            "Epoch 82/500\n",
            "34/34 [==============================] - 0s 3ms/step - loss: 2942.1155 - mae: 2942.1155\n",
            "Epoch 83/500\n",
            "34/34 [==============================] - 0s 3ms/step - loss: 2928.2024 - mae: 2928.2024\n",
            "Epoch 84/500\n",
            "34/34 [==============================] - 0s 3ms/step - loss: 2919.6089 - mae: 2919.6089\n",
            "Epoch 85/500\n",
            "34/34 [==============================] - 0s 4ms/step - loss: 2913.4526 - mae: 2913.4526\n",
            "Epoch 86/500\n",
            "34/34 [==============================] - 0s 3ms/step - loss: 2899.5154 - mae: 2899.5154\n",
            "Epoch 87/500\n",
            "34/34 [==============================] - 0s 3ms/step - loss: 2894.1699 - mae: 2894.1699\n",
            "Epoch 88/500\n",
            "34/34 [==============================] - 0s 3ms/step - loss: 2882.1299 - mae: 2882.1299\n",
            "Epoch 89/500\n",
            "34/34 [==============================] - 0s 3ms/step - loss: 2870.1963 - mae: 2870.1963\n",
            "Epoch 90/500\n",
            "34/34 [==============================] - 0s 3ms/step - loss: 2863.1357 - mae: 2863.1357\n",
            "Epoch 91/500\n",
            "34/34 [==============================] - 0s 4ms/step - loss: 2855.7434 - mae: 2855.7434\n",
            "Epoch 92/500\n",
            "34/34 [==============================] - 0s 3ms/step - loss: 2852.2710 - mae: 2852.2710\n",
            "Epoch 93/500\n",
            "34/34 [==============================] - 0s 4ms/step - loss: 2834.5403 - mae: 2834.5403\n",
            "Epoch 94/500\n",
            "34/34 [==============================] - 0s 3ms/step - loss: 2827.0369 - mae: 2827.0369\n",
            "Epoch 95/500\n",
            "34/34 [==============================] - 0s 3ms/step - loss: 2819.8486 - mae: 2819.8486\n",
            "Epoch 96/500\n",
            "34/34 [==============================] - 0s 3ms/step - loss: 2814.6357 - mae: 2814.6357\n",
            "Epoch 97/500\n",
            "34/34 [==============================] - 0s 3ms/step - loss: 2802.4580 - mae: 2802.4580\n",
            "Epoch 98/500\n",
            "34/34 [==============================] - 0s 3ms/step - loss: 2795.2683 - mae: 2795.2683\n",
            "Epoch 99/500\n",
            "34/34 [==============================] - 0s 4ms/step - loss: 2777.1375 - mae: 2777.1375\n",
            "Epoch 100/500\n",
            "34/34 [==============================] - 0s 3ms/step - loss: 2763.1973 - mae: 2763.1973\n",
            "Epoch 101/500\n",
            "34/34 [==============================] - 0s 3ms/step - loss: 2749.5327 - mae: 2749.5327\n",
            "Epoch 102/500\n",
            "34/34 [==============================] - 0s 4ms/step - loss: 2744.9363 - mae: 2744.9363\n",
            "Epoch 103/500\n",
            "34/34 [==============================] - 0s 3ms/step - loss: 2729.1653 - mae: 2729.1653\n",
            "Epoch 104/500\n",
            "34/34 [==============================] - 0s 3ms/step - loss: 2716.0620 - mae: 2716.0620\n",
            "Epoch 105/500\n",
            "34/34 [==============================] - 0s 4ms/step - loss: 2705.3857 - mae: 2705.3857\n",
            "Epoch 106/500\n",
            "34/34 [==============================] - 0s 3ms/step - loss: 2707.9539 - mae: 2707.9539\n",
            "Epoch 107/500\n",
            "34/34 [==============================] - 0s 3ms/step - loss: 2690.9656 - mae: 2690.9656\n",
            "Epoch 108/500\n",
            "34/34 [==============================] - 0s 3ms/step - loss: 2671.7534 - mae: 2671.7534\n",
            "Epoch 109/500\n",
            "34/34 [==============================] - 0s 3ms/step - loss: 2660.8306 - mae: 2660.8306\n",
            "Epoch 110/500\n",
            "34/34 [==============================] - 0s 4ms/step - loss: 2653.5649 - mae: 2653.5649\n",
            "Epoch 111/500\n",
            "34/34 [==============================] - 0s 3ms/step - loss: 2643.1636 - mae: 2643.1636\n",
            "Epoch 112/500\n",
            "34/34 [==============================] - 0s 3ms/step - loss: 2622.5076 - mae: 2622.5076\n",
            "Epoch 113/500\n",
            "34/34 [==============================] - 0s 3ms/step - loss: 2619.5540 - mae: 2619.5540\n",
            "Epoch 114/500\n",
            "34/34 [==============================] - 0s 3ms/step - loss: 2609.2104 - mae: 2609.2104\n",
            "Epoch 115/500\n",
            "34/34 [==============================] - 0s 3ms/step - loss: 2597.7412 - mae: 2597.7412\n",
            "Epoch 116/500\n",
            "34/34 [==============================] - 0s 3ms/step - loss: 2579.1975 - mae: 2579.1975\n",
            "Epoch 117/500\n",
            "34/34 [==============================] - 0s 3ms/step - loss: 2556.3904 - mae: 2556.3904\n",
            "Epoch 118/500\n",
            "34/34 [==============================] - 0s 3ms/step - loss: 2542.0044 - mae: 2542.0044\n",
            "Epoch 119/500\n",
            "34/34 [==============================] - 0s 4ms/step - loss: 2531.4368 - mae: 2531.4368\n",
            "Epoch 120/500\n",
            "34/34 [==============================] - 0s 3ms/step - loss: 2517.8171 - mae: 2517.8171\n",
            "Epoch 121/500\n",
            "34/34 [==============================] - 0s 4ms/step - loss: 2497.9485 - mae: 2497.9485\n",
            "Epoch 122/500\n",
            "34/34 [==============================] - 0s 3ms/step - loss: 2488.8052 - mae: 2488.8052\n",
            "Epoch 123/500\n",
            "34/34 [==============================] - 0s 3ms/step - loss: 2476.4077 - mae: 2476.4077\n",
            "Epoch 124/500\n",
            "34/34 [==============================] - 0s 3ms/step - loss: 2469.3132 - mae: 2469.3132\n",
            "Epoch 125/500\n",
            "34/34 [==============================] - 0s 3ms/step - loss: 2449.6980 - mae: 2449.6980\n",
            "Epoch 126/500\n",
            "34/34 [==============================] - 0s 3ms/step - loss: 2435.7271 - mae: 2435.7271\n",
            "Epoch 127/500\n",
            "34/34 [==============================] - 0s 4ms/step - loss: 2420.1611 - mae: 2420.1611\n",
            "Epoch 128/500\n",
            "34/34 [==============================] - 0s 3ms/step - loss: 2405.8655 - mae: 2405.8655\n",
            "Epoch 129/500\n",
            "34/34 [==============================] - 0s 3ms/step - loss: 2394.3430 - mae: 2394.3430\n",
            "Epoch 130/500\n",
            "34/34 [==============================] - 0s 3ms/step - loss: 2381.8958 - mae: 2381.8958\n",
            "Epoch 131/500\n",
            "34/34 [==============================] - 0s 3ms/step - loss: 2375.2124 - mae: 2375.2124\n",
            "Epoch 132/500\n",
            "34/34 [==============================] - 0s 3ms/step - loss: 2363.3076 - mae: 2363.3076\n",
            "Epoch 133/500\n",
            "34/34 [==============================] - 0s 3ms/step - loss: 2349.6892 - mae: 2349.6892\n",
            "Epoch 134/500\n",
            "34/34 [==============================] - 0s 3ms/step - loss: 2347.1526 - mae: 2347.1526\n",
            "Epoch 135/500\n",
            "34/34 [==============================] - 0s 3ms/step - loss: 2331.5588 - mae: 2331.5588\n",
            "Epoch 136/500\n",
            "34/34 [==============================] - 0s 3ms/step - loss: 2324.9895 - mae: 2324.9895\n",
            "Epoch 137/500\n",
            "34/34 [==============================] - 0s 4ms/step - loss: 2318.1536 - mae: 2318.1536\n",
            "Epoch 138/500\n",
            "34/34 [==============================] - 0s 3ms/step - loss: 2317.0330 - mae: 2317.0330\n",
            "Epoch 139/500\n",
            "34/34 [==============================] - 0s 3ms/step - loss: 2302.9924 - mae: 2302.9924\n",
            "Epoch 140/500\n",
            "34/34 [==============================] - 0s 4ms/step - loss: 2286.9011 - mae: 2286.9011\n",
            "Epoch 141/500\n",
            "34/34 [==============================] - 0s 3ms/step - loss: 2304.1628 - mae: 2304.1628\n",
            "Epoch 142/500\n",
            "34/34 [==============================] - 0s 5ms/step - loss: 2277.3992 - mae: 2277.3992\n",
            "Epoch 143/500\n",
            "34/34 [==============================] - 0s 5ms/step - loss: 2272.7852 - mae: 2272.7852\n",
            "Epoch 144/500\n",
            "34/34 [==============================] - 0s 5ms/step - loss: 2258.8125 - mae: 2258.8125\n",
            "Epoch 145/500\n",
            "34/34 [==============================] - 0s 4ms/step - loss: 2255.0164 - mae: 2255.0164\n",
            "Epoch 146/500\n",
            "34/34 [==============================] - 0s 5ms/step - loss: 2245.9458 - mae: 2245.9458\n",
            "Epoch 147/500\n",
            "34/34 [==============================] - 0s 4ms/step - loss: 2246.7402 - mae: 2246.7402\n",
            "Epoch 148/500\n",
            "34/34 [==============================] - 0s 4ms/step - loss: 2232.3711 - mae: 2232.3711\n",
            "Epoch 149/500\n",
            "34/34 [==============================] - 0s 5ms/step - loss: 2218.2129 - mae: 2218.2129\n",
            "Epoch 150/500\n",
            "34/34 [==============================] - 0s 5ms/step - loss: 2215.1062 - mae: 2215.1062\n",
            "Epoch 151/500\n",
            "34/34 [==============================] - 0s 5ms/step - loss: 2206.1047 - mae: 2206.1047\n",
            "Epoch 152/500\n",
            "34/34 [==============================] - 0s 5ms/step - loss: 2201.0449 - mae: 2201.0449\n",
            "Epoch 153/500\n",
            "34/34 [==============================] - 0s 5ms/step - loss: 2201.7852 - mae: 2201.7852\n",
            "Epoch 154/500\n",
            "34/34 [==============================] - 0s 4ms/step - loss: 2199.4600 - mae: 2199.4600\n",
            "Epoch 155/500\n",
            "34/34 [==============================] - 0s 4ms/step - loss: 2184.4314 - mae: 2184.4314\n",
            "Epoch 156/500\n",
            "34/34 [==============================] - 0s 4ms/step - loss: 2177.1570 - mae: 2177.1570\n",
            "Epoch 157/500\n",
            "34/34 [==============================] - 0s 3ms/step - loss: 2168.4556 - mae: 2168.4556\n",
            "Epoch 158/500\n",
            "34/34 [==============================] - 0s 3ms/step - loss: 2168.9226 - mae: 2168.9226\n",
            "Epoch 159/500\n",
            "34/34 [==============================] - 0s 3ms/step - loss: 2166.0759 - mae: 2166.0759\n",
            "Epoch 160/500\n",
            "34/34 [==============================] - 0s 4ms/step - loss: 2162.2021 - mae: 2162.2021\n",
            "Epoch 161/500\n",
            "34/34 [==============================] - 0s 3ms/step - loss: 2143.3154 - mae: 2143.3154\n",
            "Epoch 162/500\n",
            "34/34 [==============================] - 0s 3ms/step - loss: 2139.6074 - mae: 2139.6074\n",
            "Epoch 163/500\n",
            "34/34 [==============================] - 0s 3ms/step - loss: 2133.1765 - mae: 2133.1765\n",
            "Epoch 164/500\n",
            "34/34 [==============================] - 0s 3ms/step - loss: 2127.8682 - mae: 2127.8682\n",
            "Epoch 165/500\n",
            "34/34 [==============================] - 0s 4ms/step - loss: 2119.8687 - mae: 2119.8687\n",
            "Epoch 166/500\n",
            "34/34 [==============================] - 0s 3ms/step - loss: 2118.3521 - mae: 2118.3521\n",
            "Epoch 167/500\n",
            "34/34 [==============================] - 0s 3ms/step - loss: 2105.5254 - mae: 2105.5254\n",
            "Epoch 168/500\n",
            "34/34 [==============================] - 0s 4ms/step - loss: 2102.3901 - mae: 2102.3901\n",
            "Epoch 169/500\n",
            "34/34 [==============================] - 0s 3ms/step - loss: 2092.9355 - mae: 2092.9355\n",
            "Epoch 170/500\n",
            "34/34 [==============================] - 0s 3ms/step - loss: 2092.3804 - mae: 2092.3804\n",
            "Epoch 171/500\n",
            "34/34 [==============================] - 0s 3ms/step - loss: 2087.3298 - mae: 2087.3298\n",
            "Epoch 172/500\n",
            "34/34 [==============================] - 0s 3ms/step - loss: 2083.5886 - mae: 2083.5886\n",
            "Epoch 173/500\n",
            "34/34 [==============================] - 0s 4ms/step - loss: 2085.7114 - mae: 2085.7114\n",
            "Epoch 174/500\n",
            "34/34 [==============================] - 0s 3ms/step - loss: 2078.3220 - mae: 2078.3220\n",
            "Epoch 175/500\n",
            "34/34 [==============================] - 0s 3ms/step - loss: 2076.7878 - mae: 2076.7878\n",
            "Epoch 176/500\n",
            "34/34 [==============================] - 0s 3ms/step - loss: 2062.8677 - mae: 2062.8677\n",
            "Epoch 177/500\n",
            "34/34 [==============================] - 0s 3ms/step - loss: 2071.7832 - mae: 2071.7832\n",
            "Epoch 178/500\n",
            "34/34 [==============================] - 0s 3ms/step - loss: 2061.4097 - mae: 2061.4097\n",
            "Epoch 179/500\n",
            "34/34 [==============================] - 0s 3ms/step - loss: 2053.5210 - mae: 2053.5210\n",
            "Epoch 180/500\n",
            "34/34 [==============================] - 0s 3ms/step - loss: 2052.4082 - mae: 2052.4082\n",
            "Epoch 181/500\n",
            "34/34 [==============================] - 0s 3ms/step - loss: 2041.2316 - mae: 2041.2316\n",
            "Epoch 182/500\n",
            "34/34 [==============================] - 0s 4ms/step - loss: 2033.6124 - mae: 2033.6124\n",
            "Epoch 183/500\n",
            "34/34 [==============================] - 0s 3ms/step - loss: 2035.7535 - mae: 2035.7535\n",
            "Epoch 184/500\n",
            "34/34 [==============================] - 0s 3ms/step - loss: 2031.4113 - mae: 2031.4113\n",
            "Epoch 185/500\n",
            "34/34 [==============================] - 0s 3ms/step - loss: 2027.5575 - mae: 2027.5575\n",
            "Epoch 186/500\n",
            "34/34 [==============================] - 0s 3ms/step - loss: 2024.8049 - mae: 2024.8049\n",
            "Epoch 187/500\n",
            "34/34 [==============================] - 0s 3ms/step - loss: 2018.9851 - mae: 2018.9851\n",
            "Epoch 188/500\n",
            "34/34 [==============================] - 0s 3ms/step - loss: 2031.3844 - mae: 2031.3844\n",
            "Epoch 189/500\n",
            "34/34 [==============================] - 0s 4ms/step - loss: 2014.4855 - mae: 2014.4855\n",
            "Epoch 190/500\n",
            "34/34 [==============================] - 0s 4ms/step - loss: 2010.5706 - mae: 2010.5706\n",
            "Epoch 191/500\n",
            "34/34 [==============================] - 0s 3ms/step - loss: 2005.1631 - mae: 2005.1631\n",
            "Epoch 192/500\n",
            "34/34 [==============================] - 0s 3ms/step - loss: 2003.4619 - mae: 2003.4619\n",
            "Epoch 193/500\n",
            "34/34 [==============================] - 0s 4ms/step - loss: 2011.9243 - mae: 2011.9243\n",
            "Epoch 194/500\n",
            "34/34 [==============================] - 0s 3ms/step - loss: 2009.9834 - mae: 2009.9834\n",
            "Epoch 195/500\n",
            "34/34 [==============================] - 0s 3ms/step - loss: 2002.5876 - mae: 2002.5876\n",
            "Epoch 196/500\n",
            "34/34 [==============================] - 0s 3ms/step - loss: 2013.4470 - mae: 2013.4470\n",
            "Epoch 197/500\n",
            "34/34 [==============================] - 0s 4ms/step - loss: 1999.6871 - mae: 1999.6871\n",
            "Epoch 198/500\n",
            "34/34 [==============================] - 0s 4ms/step - loss: 2000.4369 - mae: 2000.4369\n",
            "Epoch 199/500\n",
            "34/34 [==============================] - 0s 3ms/step - loss: 2007.9542 - mae: 2007.9542\n",
            "Epoch 200/500\n",
            "34/34 [==============================] - 0s 4ms/step - loss: 1990.3369 - mae: 1990.3369\n",
            "Epoch 201/500\n",
            "34/34 [==============================] - 0s 4ms/step - loss: 1996.0250 - mae: 1996.0250\n",
            "Epoch 202/500\n",
            "34/34 [==============================] - 0s 3ms/step - loss: 1996.4156 - mae: 1996.4156\n",
            "Epoch 203/500\n",
            "34/34 [==============================] - 0s 3ms/step - loss: 1998.4481 - mae: 1998.4481\n",
            "Epoch 204/500\n",
            "34/34 [==============================] - 0s 4ms/step - loss: 1998.8923 - mae: 1998.8923\n",
            "Epoch 205/500\n",
            "34/34 [==============================] - 0s 3ms/step - loss: 2001.0422 - mae: 2001.0422\n",
            "Epoch 206/500\n",
            "34/34 [==============================] - 0s 4ms/step - loss: 1990.3967 - mae: 1990.3967\n",
            "Epoch 207/500\n",
            "34/34 [==============================] - 0s 4ms/step - loss: 1991.7811 - mae: 1991.7811\n",
            "Epoch 208/500\n",
            "34/34 [==============================] - 0s 3ms/step - loss: 2003.2299 - mae: 2003.2299\n",
            "Epoch 209/500\n",
            "34/34 [==============================] - 0s 3ms/step - loss: 1999.6815 - mae: 1999.6815\n",
            "Epoch 210/500\n",
            "34/34 [==============================] - 0s 3ms/step - loss: 1994.3986 - mae: 1994.3986\n",
            "Epoch 211/500\n",
            "34/34 [==============================] - 0s 3ms/step - loss: 1989.6099 - mae: 1989.6099\n",
            "Epoch 212/500\n",
            "34/34 [==============================] - 0s 3ms/step - loss: 1984.0792 - mae: 1984.0792\n",
            "Epoch 213/500\n",
            "34/34 [==============================] - 0s 4ms/step - loss: 1981.2863 - mae: 1981.2863\n",
            "Epoch 214/500\n",
            "34/34 [==============================] - 0s 4ms/step - loss: 1990.1713 - mae: 1990.1713\n",
            "Epoch 215/500\n",
            "34/34 [==============================] - 0s 4ms/step - loss: 1986.1621 - mae: 1986.1621\n",
            "Epoch 216/500\n",
            "34/34 [==============================] - 0s 3ms/step - loss: 1989.0933 - mae: 1989.0933\n",
            "Epoch 217/500\n",
            "34/34 [==============================] - 0s 4ms/step - loss: 1988.4507 - mae: 1988.4507\n",
            "Epoch 218/500\n",
            "34/34 [==============================] - 0s 3ms/step - loss: 1979.6542 - mae: 1979.6542\n",
            "Epoch 219/500\n",
            "34/34 [==============================] - 0s 3ms/step - loss: 1985.7196 - mae: 1985.7196\n",
            "Epoch 220/500\n",
            "34/34 [==============================] - 0s 3ms/step - loss: 1986.7140 - mae: 1986.7140\n",
            "Epoch 221/500\n",
            "34/34 [==============================] - 0s 4ms/step - loss: 1993.7129 - mae: 1993.7129\n",
            "Epoch 222/500\n",
            "34/34 [==============================] - 0s 3ms/step - loss: 1983.4399 - mae: 1983.4399\n",
            "Epoch 223/500\n",
            "34/34 [==============================] - 0s 4ms/step - loss: 1979.2214 - mae: 1979.2214\n",
            "Epoch 224/500\n",
            "34/34 [==============================] - 0s 3ms/step - loss: 1986.7568 - mae: 1986.7568\n",
            "Epoch 225/500\n",
            "34/34 [==============================] - 0s 3ms/step - loss: 1980.7161 - mae: 1980.7161\n",
            "Epoch 226/500\n",
            "34/34 [==============================] - 0s 3ms/step - loss: 1981.6890 - mae: 1981.6890\n",
            "Epoch 227/500\n",
            "34/34 [==============================] - 0s 3ms/step - loss: 1977.6843 - mae: 1977.6843\n",
            "Epoch 228/500\n",
            "34/34 [==============================] - 0s 3ms/step - loss: 1984.7106 - mae: 1984.7106\n",
            "Epoch 229/500\n",
            "34/34 [==============================] - 0s 3ms/step - loss: 1995.8162 - mae: 1995.8162\n",
            "Epoch 230/500\n",
            "34/34 [==============================] - 0s 3ms/step - loss: 1985.5094 - mae: 1985.5094\n",
            "Epoch 231/500\n",
            "34/34 [==============================] - 0s 3ms/step - loss: 1980.6355 - mae: 1980.6355\n",
            "Epoch 232/500\n",
            "34/34 [==============================] - 0s 4ms/step - loss: 1983.9248 - mae: 1983.9248\n",
            "Epoch 233/500\n",
            "34/34 [==============================] - 0s 3ms/step - loss: 1984.4093 - mae: 1984.4093\n",
            "Epoch 234/500\n",
            "34/34 [==============================] - 0s 4ms/step - loss: 1984.3799 - mae: 1984.3799\n",
            "Epoch 235/500\n",
            "34/34 [==============================] - 0s 3ms/step - loss: 1973.3425 - mae: 1973.3425\n",
            "Epoch 236/500\n",
            "34/34 [==============================] - 0s 5ms/step - loss: 1972.3474 - mae: 1972.3474\n",
            "Epoch 237/500\n",
            "34/34 [==============================] - 0s 5ms/step - loss: 1978.9969 - mae: 1978.9969\n",
            "Epoch 238/500\n",
            "34/34 [==============================] - 0s 5ms/step - loss: 1986.9645 - mae: 1986.9645\n",
            "Epoch 239/500\n",
            "34/34 [==============================] - 0s 5ms/step - loss: 1981.4949 - mae: 1981.4949\n",
            "Epoch 240/500\n",
            "34/34 [==============================] - 0s 4ms/step - loss: 1979.7050 - mae: 1979.7050\n",
            "Epoch 241/500\n",
            "34/34 [==============================] - 0s 5ms/step - loss: 1977.1500 - mae: 1977.1500\n",
            "Epoch 242/500\n",
            "34/34 [==============================] - 0s 5ms/step - loss: 1971.8243 - mae: 1971.8243\n",
            "Epoch 243/500\n",
            "34/34 [==============================] - 0s 5ms/step - loss: 1971.2035 - mae: 1971.2035\n",
            "Epoch 244/500\n",
            "34/34 [==============================] - 0s 5ms/step - loss: 1974.4500 - mae: 1974.4500\n",
            "Epoch 245/500\n",
            "34/34 [==============================] - 0s 5ms/step - loss: 1976.4926 - mae: 1976.4926\n",
            "Epoch 246/500\n",
            "34/34 [==============================] - 0s 5ms/step - loss: 1971.6841 - mae: 1971.6841\n",
            "Epoch 247/500\n",
            "34/34 [==============================] - 0s 5ms/step - loss: 1969.1638 - mae: 1969.1638\n",
            "Epoch 248/500\n",
            "34/34 [==============================] - 0s 5ms/step - loss: 1973.9755 - mae: 1973.9755\n",
            "Epoch 249/500\n",
            "34/34 [==============================] - 0s 3ms/step - loss: 1976.1393 - mae: 1976.1393\n",
            "Epoch 250/500\n",
            "34/34 [==============================] - 0s 3ms/step - loss: 1969.3893 - mae: 1969.3893\n",
            "Epoch 251/500\n",
            "34/34 [==============================] - 0s 4ms/step - loss: 1973.7413 - mae: 1973.7413\n",
            "Epoch 252/500\n",
            "34/34 [==============================] - 0s 4ms/step - loss: 1975.7953 - mae: 1975.7953\n",
            "Epoch 253/500\n",
            "34/34 [==============================] - 0s 3ms/step - loss: 1970.7981 - mae: 1970.7981\n",
            "Epoch 254/500\n",
            "34/34 [==============================] - 0s 3ms/step - loss: 1969.8229 - mae: 1969.8229\n",
            "Epoch 255/500\n",
            "34/34 [==============================] - 0s 3ms/step - loss: 1966.7150 - mae: 1966.7150\n",
            "Epoch 256/500\n",
            "34/34 [==============================] - 0s 3ms/step - loss: 1977.0519 - mae: 1977.0519\n",
            "Epoch 257/500\n",
            "34/34 [==============================] - 0s 4ms/step - loss: 1966.7535 - mae: 1966.7535\n",
            "Epoch 258/500\n",
            "34/34 [==============================] - 0s 3ms/step - loss: 1971.7622 - mae: 1971.7622\n",
            "Epoch 259/500\n",
            "34/34 [==============================] - 0s 3ms/step - loss: 1973.2953 - mae: 1973.2953\n",
            "Epoch 260/500\n",
            "34/34 [==============================] - 0s 4ms/step - loss: 1972.5084 - mae: 1972.5084\n",
            "Epoch 261/500\n",
            "34/34 [==============================] - 0s 3ms/step - loss: 1968.7806 - mae: 1968.7806\n",
            "Epoch 262/500\n",
            "34/34 [==============================] - 0s 3ms/step - loss: 1965.4138 - mae: 1965.4138\n",
            "Epoch 263/500\n",
            "34/34 [==============================] - 0s 3ms/step - loss: 1973.0026 - mae: 1973.0026\n",
            "Epoch 264/500\n",
            "34/34 [==============================] - 0s 3ms/step - loss: 1965.8192 - mae: 1965.8192\n",
            "Epoch 265/500\n",
            "34/34 [==============================] - 0s 3ms/step - loss: 1965.5225 - mae: 1965.5225\n",
            "Epoch 266/500\n",
            "34/34 [==============================] - 0s 4ms/step - loss: 1966.6028 - mae: 1966.6028\n",
            "Epoch 267/500\n",
            "34/34 [==============================] - 0s 4ms/step - loss: 1968.3206 - mae: 1968.3206\n",
            "Epoch 268/500\n",
            "34/34 [==============================] - 0s 4ms/step - loss: 1967.0306 - mae: 1967.0306\n",
            "Epoch 269/500\n",
            "34/34 [==============================] - 0s 3ms/step - loss: 1967.0778 - mae: 1967.0778\n",
            "Epoch 270/500\n",
            "34/34 [==============================] - 0s 3ms/step - loss: 1967.1508 - mae: 1967.1508\n",
            "Epoch 271/500\n",
            "34/34 [==============================] - 0s 3ms/step - loss: 1966.6584 - mae: 1966.6584\n",
            "Epoch 272/500\n",
            "34/34 [==============================] - 0s 4ms/step - loss: 1989.8827 - mae: 1989.8827\n",
            "Epoch 273/500\n",
            "34/34 [==============================] - 0s 3ms/step - loss: 1987.3528 - mae: 1987.3528\n",
            "Epoch 274/500\n",
            "34/34 [==============================] - 0s 3ms/step - loss: 1965.1725 - mae: 1965.1725\n",
            "Epoch 275/500\n",
            "34/34 [==============================] - 0s 4ms/step - loss: 1976.0552 - mae: 1976.0552\n",
            "Epoch 276/500\n",
            "34/34 [==============================] - 0s 4ms/step - loss: 1977.4827 - mae: 1977.4827\n",
            "Epoch 277/500\n",
            "34/34 [==============================] - 0s 4ms/step - loss: 1987.6685 - mae: 1987.6685\n",
            "Epoch 278/500\n",
            "34/34 [==============================] - 0s 4ms/step - loss: 1965.9926 - mae: 1965.9926\n",
            "Epoch 279/500\n",
            "34/34 [==============================] - 0s 3ms/step - loss: 1965.1960 - mae: 1965.1960\n",
            "Epoch 280/500\n",
            "34/34 [==============================] - 0s 3ms/step - loss: 1962.5210 - mae: 1962.5210\n",
            "Epoch 281/500\n",
            "34/34 [==============================] - 0s 3ms/step - loss: 1965.7612 - mae: 1965.7612\n",
            "Epoch 282/500\n",
            "34/34 [==============================] - 0s 3ms/step - loss: 1965.1539 - mae: 1965.1539\n",
            "Epoch 283/500\n",
            "34/34 [==============================] - 0s 3ms/step - loss: 1959.8817 - mae: 1959.8817\n",
            "Epoch 284/500\n",
            "34/34 [==============================] - 0s 3ms/step - loss: 1966.2623 - mae: 1966.2623\n",
            "Epoch 285/500\n",
            "34/34 [==============================] - 0s 4ms/step - loss: 1967.9614 - mae: 1967.9614\n",
            "Epoch 286/500\n",
            "34/34 [==============================] - 0s 3ms/step - loss: 1965.9402 - mae: 1965.9402\n",
            "Epoch 287/500\n",
            "34/34 [==============================] - 0s 4ms/step - loss: 1969.4974 - mae: 1969.4974\n",
            "Epoch 288/500\n",
            "34/34 [==============================] - 0s 4ms/step - loss: 1962.3486 - mae: 1962.3486\n",
            "Epoch 289/500\n",
            "34/34 [==============================] - 0s 4ms/step - loss: 1971.3353 - mae: 1971.3353\n",
            "Epoch 290/500\n",
            "34/34 [==============================] - 0s 3ms/step - loss: 1962.1089 - mae: 1962.1089\n",
            "Epoch 291/500\n",
            "34/34 [==============================] - 0s 4ms/step - loss: 1963.8456 - mae: 1963.8456\n",
            "Epoch 292/500\n",
            "34/34 [==============================] - 0s 3ms/step - loss: 1959.8812 - mae: 1959.8812\n",
            "Epoch 293/500\n",
            "34/34 [==============================] - 0s 4ms/step - loss: 1957.2871 - mae: 1957.2871\n",
            "Epoch 294/500\n",
            "34/34 [==============================] - 0s 3ms/step - loss: 1955.5516 - mae: 1955.5516\n",
            "Epoch 295/500\n",
            "34/34 [==============================] - 0s 3ms/step - loss: 1958.8408 - mae: 1958.8408\n",
            "Epoch 296/500\n",
            "34/34 [==============================] - 0s 3ms/step - loss: 1980.3827 - mae: 1980.3827\n",
            "Epoch 297/500\n",
            "34/34 [==============================] - 0s 3ms/step - loss: 1980.2745 - mae: 1980.2745\n",
            "Epoch 298/500\n",
            "34/34 [==============================] - 0s 3ms/step - loss: 1964.1173 - mae: 1964.1173\n",
            "Epoch 299/500\n",
            "34/34 [==============================] - 0s 3ms/step - loss: 1973.6238 - mae: 1973.6238\n",
            "Epoch 300/500\n",
            "34/34 [==============================] - 0s 3ms/step - loss: 1960.6741 - mae: 1960.6741\n",
            "Epoch 301/500\n",
            "34/34 [==============================] - 0s 4ms/step - loss: 1968.8467 - mae: 1968.8467\n",
            "Epoch 302/500\n",
            "34/34 [==============================] - 0s 3ms/step - loss: 1964.8474 - mae: 1964.8474\n",
            "Epoch 303/500\n",
            "34/34 [==============================] - 0s 3ms/step - loss: 1963.4719 - mae: 1963.4719\n",
            "Epoch 304/500\n",
            "34/34 [==============================] - 0s 4ms/step - loss: 1963.3142 - mae: 1963.3142\n",
            "Epoch 305/500\n",
            "34/34 [==============================] - 0s 4ms/step - loss: 1957.2118 - mae: 1957.2118\n",
            "Epoch 306/500\n",
            "34/34 [==============================] - 0s 3ms/step - loss: 1962.3848 - mae: 1962.3848\n",
            "Epoch 307/500\n",
            "34/34 [==============================] - 0s 3ms/step - loss: 1969.3663 - mae: 1969.3663\n",
            "Epoch 308/500\n",
            "34/34 [==============================] - 0s 3ms/step - loss: 1966.0872 - mae: 1966.0872\n",
            "Epoch 309/500\n",
            "34/34 [==============================] - 0s 4ms/step - loss: 1963.0161 - mae: 1963.0161\n",
            "Epoch 310/500\n",
            "34/34 [==============================] - 0s 3ms/step - loss: 1963.9565 - mae: 1963.9565\n",
            "Epoch 311/500\n",
            "34/34 [==============================] - 0s 3ms/step - loss: 1956.7135 - mae: 1956.7135\n",
            "Epoch 312/500\n",
            "34/34 [==============================] - 0s 4ms/step - loss: 1964.2535 - mae: 1964.2535\n",
            "Epoch 313/500\n",
            "34/34 [==============================] - 0s 3ms/step - loss: 1960.6040 - mae: 1960.6040\n",
            "Epoch 314/500\n",
            "34/34 [==============================] - 0s 3ms/step - loss: 1957.8960 - mae: 1957.8960\n",
            "Epoch 315/500\n",
            "34/34 [==============================] - 0s 3ms/step - loss: 1959.7239 - mae: 1959.7239\n",
            "Epoch 316/500\n",
            "34/34 [==============================] - 0s 3ms/step - loss: 1965.1508 - mae: 1965.1508\n",
            "Epoch 317/500\n",
            "34/34 [==============================] - 0s 3ms/step - loss: 1954.8745 - mae: 1954.8745\n",
            "Epoch 318/500\n",
            "34/34 [==============================] - 0s 4ms/step - loss: 1958.6097 - mae: 1958.6097\n",
            "Epoch 319/500\n",
            "34/34 [==============================] - 0s 3ms/step - loss: 1955.7357 - mae: 1955.7357\n",
            "Epoch 320/500\n",
            "34/34 [==============================] - 0s 3ms/step - loss: 1964.5941 - mae: 1964.5941\n",
            "Epoch 321/500\n",
            "34/34 [==============================] - 0s 3ms/step - loss: 1961.1897 - mae: 1961.1897\n",
            "Epoch 322/500\n",
            "34/34 [==============================] - 0s 3ms/step - loss: 1956.3579 - mae: 1956.3579\n",
            "Epoch 323/500\n",
            "34/34 [==============================] - 0s 4ms/step - loss: 1965.2766 - mae: 1965.2766\n",
            "Epoch 324/500\n",
            "34/34 [==============================] - 0s 3ms/step - loss: 1963.1666 - mae: 1963.1666\n",
            "Epoch 325/500\n",
            "34/34 [==============================] - 0s 4ms/step - loss: 1955.7495 - mae: 1955.7495\n",
            "Epoch 326/500\n",
            "34/34 [==============================] - 0s 4ms/step - loss: 1960.9742 - mae: 1960.9742\n",
            "Epoch 327/500\n",
            "34/34 [==============================] - 0s 3ms/step - loss: 1955.9858 - mae: 1955.9858\n",
            "Epoch 328/500\n",
            "34/34 [==============================] - 0s 3ms/step - loss: 1955.6700 - mae: 1955.6700\n",
            "Epoch 329/500\n",
            "34/34 [==============================] - 0s 4ms/step - loss: 1960.9023 - mae: 1960.9023\n",
            "Epoch 330/500\n",
            "34/34 [==============================] - 0s 5ms/step - loss: 1960.9908 - mae: 1960.9908\n",
            "Epoch 331/500\n",
            "34/34 [==============================] - 0s 4ms/step - loss: 1964.2521 - mae: 1964.2521\n",
            "Epoch 332/500\n",
            "34/34 [==============================] - 0s 5ms/step - loss: 1955.7739 - mae: 1955.7739\n",
            "Epoch 333/500\n",
            "34/34 [==============================] - 0s 5ms/step - loss: 1961.1128 - mae: 1961.1128\n",
            "Epoch 334/500\n",
            "34/34 [==============================] - 0s 5ms/step - loss: 1952.1488 - mae: 1952.1488\n",
            "Epoch 335/500\n",
            "34/34 [==============================] - 0s 5ms/step - loss: 1955.5964 - mae: 1955.5964\n",
            "Epoch 336/500\n",
            "34/34 [==============================] - 0s 5ms/step - loss: 1952.3889 - mae: 1952.3889\n",
            "Epoch 337/500\n",
            "34/34 [==============================] - 0s 5ms/step - loss: 1953.7671 - mae: 1953.7671\n",
            "Epoch 338/500\n",
            "34/34 [==============================] - 0s 5ms/step - loss: 1956.9142 - mae: 1956.9142\n",
            "Epoch 339/500\n",
            "34/34 [==============================] - 0s 5ms/step - loss: 1958.7936 - mae: 1958.7936\n",
            "Epoch 340/500\n",
            "34/34 [==============================] - 0s 5ms/step - loss: 1953.4723 - mae: 1953.4723\n",
            "Epoch 341/500\n",
            "34/34 [==============================] - 0s 5ms/step - loss: 1954.9062 - mae: 1954.9062\n",
            "Epoch 342/500\n",
            "34/34 [==============================] - 0s 5ms/step - loss: 1952.3486 - mae: 1952.3486\n",
            "Epoch 343/500\n",
            "34/34 [==============================] - 0s 3ms/step - loss: 1956.9883 - mae: 1956.9883\n",
            "Epoch 344/500\n",
            "34/34 [==============================] - 0s 3ms/step - loss: 1956.0726 - mae: 1956.0726\n",
            "Epoch 345/500\n",
            "34/34 [==============================] - 0s 3ms/step - loss: 1955.9595 - mae: 1955.9595\n",
            "Epoch 346/500\n",
            "34/34 [==============================] - 0s 3ms/step - loss: 1955.6199 - mae: 1955.6199\n",
            "Epoch 347/500\n",
            "34/34 [==============================] - 0s 4ms/step - loss: 1958.5878 - mae: 1958.5878\n",
            "Epoch 348/500\n",
            "34/34 [==============================] - 0s 3ms/step - loss: 1970.0035 - mae: 1970.0035\n",
            "Epoch 349/500\n",
            "34/34 [==============================] - 0s 4ms/step - loss: 1950.2535 - mae: 1950.2535\n",
            "Epoch 350/500\n",
            "34/34 [==============================] - 0s 3ms/step - loss: 1961.7656 - mae: 1961.7656\n",
            "Epoch 351/500\n",
            "34/34 [==============================] - 0s 3ms/step - loss: 1958.5421 - mae: 1958.5421\n",
            "Epoch 352/500\n",
            "34/34 [==============================] - 0s 4ms/step - loss: 1956.7784 - mae: 1956.7784\n",
            "Epoch 353/500\n",
            "34/34 [==============================] - 0s 3ms/step - loss: 1957.2313 - mae: 1957.2313\n",
            "Epoch 354/500\n",
            "34/34 [==============================] - 0s 3ms/step - loss: 1959.0637 - mae: 1959.0637\n",
            "Epoch 355/500\n",
            "34/34 [==============================] - 0s 4ms/step - loss: 1953.1793 - mae: 1953.1793\n",
            "Epoch 356/500\n",
            "34/34 [==============================] - 0s 3ms/step - loss: 1955.8312 - mae: 1955.8312\n",
            "Epoch 357/500\n",
            "34/34 [==============================] - 0s 3ms/step - loss: 1953.4463 - mae: 1953.4463\n",
            "Epoch 358/500\n",
            "34/34 [==============================] - 0s 3ms/step - loss: 1951.7269 - mae: 1951.7269\n",
            "Epoch 359/500\n",
            "34/34 [==============================] - 0s 4ms/step - loss: 1956.3472 - mae: 1956.3472\n",
            "Epoch 360/500\n",
            "34/34 [==============================] - 0s 3ms/step - loss: 1958.7865 - mae: 1958.7865\n",
            "Epoch 361/500\n",
            "34/34 [==============================] - 0s 3ms/step - loss: 1951.2786 - mae: 1951.2786\n",
            "Epoch 362/500\n",
            "34/34 [==============================] - 0s 3ms/step - loss: 1962.6401 - mae: 1962.6401\n",
            "Epoch 363/500\n",
            "34/34 [==============================] - 0s 4ms/step - loss: 1959.6388 - mae: 1959.6388\n",
            "Epoch 364/500\n",
            "34/34 [==============================] - 0s 3ms/step - loss: 1946.0084 - mae: 1946.0084\n",
            "Epoch 365/500\n",
            "34/34 [==============================] - 0s 3ms/step - loss: 1948.5837 - mae: 1948.5837\n",
            "Epoch 366/500\n",
            "34/34 [==============================] - 0s 3ms/step - loss: 1955.3740 - mae: 1955.3740\n",
            "Epoch 367/500\n",
            "34/34 [==============================] - 0s 4ms/step - loss: 1959.6365 - mae: 1959.6365\n",
            "Epoch 368/500\n",
            "34/34 [==============================] - 0s 4ms/step - loss: 1972.9556 - mae: 1972.9556\n",
            "Epoch 369/500\n",
            "34/34 [==============================] - 0s 3ms/step - loss: 1958.5566 - mae: 1958.5566\n",
            "Epoch 370/500\n",
            "34/34 [==============================] - 0s 4ms/step - loss: 1953.9219 - mae: 1953.9219\n",
            "Epoch 371/500\n",
            "34/34 [==============================] - 0s 4ms/step - loss: 1953.1130 - mae: 1953.1130\n",
            "Epoch 372/500\n",
            "34/34 [==============================] - 0s 3ms/step - loss: 1951.7856 - mae: 1951.7856\n",
            "Epoch 373/500\n",
            "34/34 [==============================] - 0s 4ms/step - loss: 1953.3076 - mae: 1953.3076\n",
            "Epoch 374/500\n",
            "34/34 [==============================] - 0s 3ms/step - loss: 1956.1747 - mae: 1956.1747\n",
            "Epoch 375/500\n",
            "34/34 [==============================] - 0s 3ms/step - loss: 1954.7247 - mae: 1954.7247\n",
            "Epoch 376/500\n",
            "34/34 [==============================] - 0s 4ms/step - loss: 1951.8903 - mae: 1951.8903\n",
            "Epoch 377/500\n",
            "34/34 [==============================] - 0s 3ms/step - loss: 1957.3683 - mae: 1957.3683\n",
            "Epoch 378/500\n",
            "34/34 [==============================] - 0s 3ms/step - loss: 1951.8127 - mae: 1951.8127\n",
            "Epoch 379/500\n",
            "34/34 [==============================] - 0s 4ms/step - loss: 1954.6573 - mae: 1954.6573\n",
            "Epoch 380/500\n",
            "34/34 [==============================] - 0s 4ms/step - loss: 1958.6765 - mae: 1958.6765\n",
            "Epoch 381/500\n",
            "34/34 [==============================] - 0s 3ms/step - loss: 1947.1978 - mae: 1947.1978\n",
            "Epoch 382/500\n",
            "34/34 [==============================] - 0s 3ms/step - loss: 1967.6337 - mae: 1967.6337\n",
            "Epoch 383/500\n",
            "34/34 [==============================] - 0s 4ms/step - loss: 1953.2030 - mae: 1953.2030\n",
            "Epoch 384/500\n",
            "34/34 [==============================] - 0s 4ms/step - loss: 1948.7697 - mae: 1948.7697\n",
            "Epoch 385/500\n",
            "34/34 [==============================] - 0s 3ms/step - loss: 1961.0120 - mae: 1961.0120\n",
            "Epoch 386/500\n",
            "34/34 [==============================] - 0s 3ms/step - loss: 1959.9144 - mae: 1959.9144\n",
            "Epoch 387/500\n",
            "34/34 [==============================] - 0s 4ms/step - loss: 1964.1914 - mae: 1964.1914\n",
            "Epoch 388/500\n",
            "34/34 [==============================] - 0s 4ms/step - loss: 1945.4705 - mae: 1945.4705\n",
            "Epoch 389/500\n",
            "34/34 [==============================] - 0s 3ms/step - loss: 1956.2806 - mae: 1956.2806\n",
            "Epoch 390/500\n",
            "34/34 [==============================] - 0s 3ms/step - loss: 1951.5145 - mae: 1951.5145\n",
            "Epoch 391/500\n",
            "34/34 [==============================] - 0s 4ms/step - loss: 1945.3845 - mae: 1945.3844\n",
            "Epoch 392/500\n",
            "34/34 [==============================] - 0s 4ms/step - loss: 1945.4664 - mae: 1945.4664\n",
            "Epoch 393/500\n",
            "34/34 [==============================] - 0s 3ms/step - loss: 1948.5551 - mae: 1948.5551\n",
            "Epoch 394/500\n",
            "34/34 [==============================] - 0s 4ms/step - loss: 1944.4606 - mae: 1944.4606\n",
            "Epoch 395/500\n",
            "34/34 [==============================] - 0s 4ms/step - loss: 1952.5493 - mae: 1952.5493\n",
            "Epoch 396/500\n",
            "34/34 [==============================] - 0s 4ms/step - loss: 1953.5477 - mae: 1953.5477\n",
            "Epoch 397/500\n",
            "34/34 [==============================] - 0s 4ms/step - loss: 1948.8662 - mae: 1948.8662\n",
            "Epoch 398/500\n",
            "34/34 [==============================] - 0s 4ms/step - loss: 1956.2593 - mae: 1956.2593\n",
            "Epoch 399/500\n",
            "34/34 [==============================] - 0s 4ms/step - loss: 1951.8429 - mae: 1951.8429\n",
            "Epoch 400/500\n",
            "34/34 [==============================] - 0s 4ms/step - loss: 1949.2207 - mae: 1949.2207\n",
            "Epoch 401/500\n",
            "34/34 [==============================] - 0s 4ms/step - loss: 1950.2240 - mae: 1950.2240\n",
            "Epoch 402/500\n",
            "34/34 [==============================] - 0s 3ms/step - loss: 1950.9291 - mae: 1950.9291\n",
            "Epoch 403/500\n",
            "34/34 [==============================] - 0s 3ms/step - loss: 1946.1899 - mae: 1946.1899\n",
            "Epoch 404/500\n",
            "34/34 [==============================] - 0s 4ms/step - loss: 1948.4210 - mae: 1948.4210\n",
            "Epoch 405/500\n",
            "34/34 [==============================] - 0s 3ms/step - loss: 1955.1256 - mae: 1955.1256\n",
            "Epoch 406/500\n",
            "34/34 [==============================] - 0s 4ms/step - loss: 1945.7047 - mae: 1945.7047\n",
            "Epoch 407/500\n",
            "34/34 [==============================] - 0s 3ms/step - loss: 1943.3717 - mae: 1943.3717\n",
            "Epoch 408/500\n",
            "34/34 [==============================] - 0s 3ms/step - loss: 1944.9706 - mae: 1944.9706\n",
            "Epoch 409/500\n",
            "34/34 [==============================] - 0s 4ms/step - loss: 1952.5514 - mae: 1952.5514\n",
            "Epoch 410/500\n",
            "34/34 [==============================] - 0s 4ms/step - loss: 1943.7776 - mae: 1943.7776\n",
            "Epoch 411/500\n",
            "34/34 [==============================] - 0s 3ms/step - loss: 1950.0289 - mae: 1950.0289\n",
            "Epoch 412/500\n",
            "34/34 [==============================] - 0s 4ms/step - loss: 1947.3492 - mae: 1947.3492\n",
            "Epoch 413/500\n",
            "34/34 [==============================] - 0s 3ms/step - loss: 1949.5012 - mae: 1949.5012\n",
            "Epoch 414/500\n",
            "34/34 [==============================] - 0s 3ms/step - loss: 1953.0773 - mae: 1953.0773\n",
            "Epoch 415/500\n",
            "34/34 [==============================] - 0s 3ms/step - loss: 1951.1077 - mae: 1951.1077\n",
            "Epoch 416/500\n",
            "34/34 [==============================] - 0s 4ms/step - loss: 1946.8456 - mae: 1946.8456\n",
            "Epoch 417/500\n",
            "34/34 [==============================] - 0s 3ms/step - loss: 1945.8677 - mae: 1945.8677\n",
            "Epoch 418/500\n",
            "34/34 [==============================] - 0s 4ms/step - loss: 1944.7378 - mae: 1944.7378\n",
            "Epoch 419/500\n",
            "34/34 [==============================] - 0s 3ms/step - loss: 1956.2638 - mae: 1956.2638\n",
            "Epoch 420/500\n",
            "34/34 [==============================] - 0s 4ms/step - loss: 1950.5200 - mae: 1950.5200\n",
            "Epoch 421/500\n",
            "34/34 [==============================] - 0s 4ms/step - loss: 1953.1376 - mae: 1953.1376\n",
            "Epoch 422/500\n",
            "34/34 [==============================] - 0s 4ms/step - loss: 1947.4525 - mae: 1947.4525\n",
            "Epoch 423/500\n",
            "34/34 [==============================] - 0s 5ms/step - loss: 1949.5150 - mae: 1949.5150\n",
            "Epoch 424/500\n",
            "34/34 [==============================] - 0s 5ms/step - loss: 1953.8138 - mae: 1953.8138\n",
            "Epoch 425/500\n",
            "34/34 [==============================] - 0s 4ms/step - loss: 1944.2617 - mae: 1944.2617\n",
            "Epoch 426/500\n",
            "34/34 [==============================] - 0s 5ms/step - loss: 1948.4132 - mae: 1948.4132\n",
            "Epoch 427/500\n",
            "34/34 [==============================] - 0s 5ms/step - loss: 1950.6576 - mae: 1950.6576\n",
            "Epoch 428/500\n",
            "34/34 [==============================] - 0s 4ms/step - loss: 1955.0059 - mae: 1955.0059\n",
            "Epoch 429/500\n",
            "34/34 [==============================] - 0s 4ms/step - loss: 1951.2875 - mae: 1951.2875\n",
            "Epoch 430/500\n",
            "34/34 [==============================] - 0s 4ms/step - loss: 1945.1797 - mae: 1945.1797\n",
            "Epoch 431/500\n",
            "34/34 [==============================] - 0s 5ms/step - loss: 1943.8531 - mae: 1943.8531\n",
            "Epoch 432/500\n",
            "34/34 [==============================] - 0s 5ms/step - loss: 1945.7372 - mae: 1945.7372\n",
            "Epoch 433/500\n",
            "34/34 [==============================] - 0s 5ms/step - loss: 1947.8842 - mae: 1947.8842\n",
            "Epoch 434/500\n",
            "34/34 [==============================] - 0s 5ms/step - loss: 1946.7516 - mae: 1946.7516\n",
            "Epoch 435/500\n",
            "34/34 [==============================] - 0s 5ms/step - loss: 1941.6129 - mae: 1941.6129\n",
            "Epoch 436/500\n",
            "34/34 [==============================] - 0s 4ms/step - loss: 1948.8169 - mae: 1948.8169\n",
            "Epoch 437/500\n",
            "34/34 [==============================] - 0s 4ms/step - loss: 1942.0007 - mae: 1942.0007\n",
            "Epoch 438/500\n",
            "34/34 [==============================] - 0s 4ms/step - loss: 1945.5046 - mae: 1945.5046\n",
            "Epoch 439/500\n",
            "34/34 [==============================] - 0s 3ms/step - loss: 1946.1547 - mae: 1946.1547\n",
            "Epoch 440/500\n",
            "34/34 [==============================] - 0s 4ms/step - loss: 1946.0913 - mae: 1946.0913\n",
            "Epoch 441/500\n",
            "34/34 [==============================] - 0s 4ms/step - loss: 1945.2980 - mae: 1945.2980\n",
            "Epoch 442/500\n",
            "34/34 [==============================] - 0s 3ms/step - loss: 1941.1538 - mae: 1941.1538\n",
            "Epoch 443/500\n",
            "34/34 [==============================] - 0s 3ms/step - loss: 1941.5941 - mae: 1941.5941\n",
            "Epoch 444/500\n",
            "34/34 [==============================] - 0s 4ms/step - loss: 1940.9230 - mae: 1940.9230\n",
            "Epoch 445/500\n",
            "34/34 [==============================] - 0s 4ms/step - loss: 1950.9880 - mae: 1950.9880\n",
            "Epoch 446/500\n",
            "34/34 [==============================] - 0s 3ms/step - loss: 1955.4751 - mae: 1955.4751\n",
            "Epoch 447/500\n",
            "34/34 [==============================] - 0s 4ms/step - loss: 1942.1282 - mae: 1942.1282\n",
            "Epoch 448/500\n",
            "34/34 [==============================] - 0s 4ms/step - loss: 1959.9808 - mae: 1959.9808\n",
            "Epoch 449/500\n",
            "34/34 [==============================] - 0s 3ms/step - loss: 1947.9147 - mae: 1947.9147\n",
            "Epoch 450/500\n",
            "34/34 [==============================] - 0s 3ms/step - loss: 1956.2495 - mae: 1956.2495\n",
            "Epoch 451/500\n",
            "34/34 [==============================] - 0s 3ms/step - loss: 1942.9733 - mae: 1942.9733\n",
            "Epoch 452/500\n",
            "34/34 [==============================] - 0s 3ms/step - loss: 1940.2188 - mae: 1940.2188\n",
            "Epoch 453/500\n",
            "34/34 [==============================] - 0s 3ms/step - loss: 1944.7380 - mae: 1944.7380\n",
            "Epoch 454/500\n",
            "34/34 [==============================] - 0s 4ms/step - loss: 1942.5560 - mae: 1942.5560\n",
            "Epoch 455/500\n",
            "34/34 [==============================] - 0s 3ms/step - loss: 1940.9091 - mae: 1940.9091\n",
            "Epoch 456/500\n",
            "34/34 [==============================] - 0s 3ms/step - loss: 1940.3311 - mae: 1940.3311\n",
            "Epoch 457/500\n",
            "34/34 [==============================] - 0s 4ms/step - loss: 1946.1119 - mae: 1946.1119\n",
            "Epoch 458/500\n",
            "34/34 [==============================] - 0s 3ms/step - loss: 1946.3317 - mae: 1946.3317\n",
            "Epoch 459/500\n",
            "34/34 [==============================] - 0s 3ms/step - loss: 1940.7277 - mae: 1940.7277\n",
            "Epoch 460/500\n",
            "34/34 [==============================] - 0s 3ms/step - loss: 1949.3853 - mae: 1949.3853\n",
            "Epoch 461/500\n",
            "34/34 [==============================] - 0s 4ms/step - loss: 1951.8149 - mae: 1951.8149\n",
            "Epoch 462/500\n",
            "34/34 [==============================] - 0s 4ms/step - loss: 1956.3805 - mae: 1956.3805\n",
            "Epoch 463/500\n",
            "34/34 [==============================] - 0s 4ms/step - loss: 1951.1650 - mae: 1951.1650\n",
            "Epoch 464/500\n",
            "34/34 [==============================] - 0s 4ms/step - loss: 1945.9835 - mae: 1945.9835\n",
            "Epoch 465/500\n",
            "34/34 [==============================] - 0s 4ms/step - loss: 1946.4912 - mae: 1946.4912\n",
            "Epoch 466/500\n",
            "34/34 [==============================] - 0s 4ms/step - loss: 1958.2323 - mae: 1958.2323\n",
            "Epoch 467/500\n",
            "34/34 [==============================] - 0s 3ms/step - loss: 1944.4078 - mae: 1944.4078\n",
            "Epoch 468/500\n",
            "34/34 [==============================] - 0s 4ms/step - loss: 1947.3282 - mae: 1947.3282\n",
            "Epoch 469/500\n",
            "34/34 [==============================] - 0s 4ms/step - loss: 1945.9360 - mae: 1945.9360\n",
            "Epoch 470/500\n",
            "34/34 [==============================] - 0s 3ms/step - loss: 1947.0258 - mae: 1947.0258\n",
            "Epoch 471/500\n",
            "34/34 [==============================] - 0s 4ms/step - loss: 1945.7253 - mae: 1945.7253\n",
            "Epoch 472/500\n",
            "34/34 [==============================] - 0s 4ms/step - loss: 1939.9172 - mae: 1939.9172\n",
            "Epoch 473/500\n",
            "34/34 [==============================] - 0s 4ms/step - loss: 1942.8625 - mae: 1942.8625\n",
            "Epoch 474/500\n",
            "34/34 [==============================] - 0s 4ms/step - loss: 1948.9160 - mae: 1948.9160\n",
            "Epoch 475/500\n",
            "34/34 [==============================] - 0s 4ms/step - loss: 1941.4877 - mae: 1941.4877\n",
            "Epoch 476/500\n",
            "34/34 [==============================] - 0s 4ms/step - loss: 1942.7047 - mae: 1942.7047\n",
            "Epoch 477/500\n",
            "34/34 [==============================] - 0s 4ms/step - loss: 1942.8906 - mae: 1942.8906\n",
            "Epoch 478/500\n",
            "34/34 [==============================] - 0s 4ms/step - loss: 1941.0472 - mae: 1941.0472\n",
            "Epoch 479/500\n",
            "34/34 [==============================] - 0s 4ms/step - loss: 1940.8660 - mae: 1940.8660\n",
            "Epoch 480/500\n",
            "34/34 [==============================] - 0s 3ms/step - loss: 1946.7512 - mae: 1946.7512\n",
            "Epoch 481/500\n",
            "34/34 [==============================] - 0s 4ms/step - loss: 1945.2911 - mae: 1945.2911\n",
            "Epoch 482/500\n",
            "34/34 [==============================] - 0s 4ms/step - loss: 1944.5565 - mae: 1944.5565\n",
            "Epoch 483/500\n",
            "34/34 [==============================] - 0s 4ms/step - loss: 1937.6824 - mae: 1937.6824\n",
            "Epoch 484/500\n",
            "34/34 [==============================] - 0s 3ms/step - loss: 1944.3513 - mae: 1944.3513\n",
            "Epoch 485/500\n",
            "34/34 [==============================] - 0s 4ms/step - loss: 1949.4436 - mae: 1949.4436\n",
            "Epoch 486/500\n",
            "34/34 [==============================] - 0s 4ms/step - loss: 1946.7438 - mae: 1946.7438\n",
            "Epoch 487/500\n",
            "34/34 [==============================] - 0s 4ms/step - loss: 1939.5399 - mae: 1939.5399\n",
            "Epoch 488/500\n",
            "34/34 [==============================] - 0s 3ms/step - loss: 1940.3181 - mae: 1940.3181\n",
            "Epoch 489/500\n",
            "34/34 [==============================] - 0s 4ms/step - loss: 1933.2473 - mae: 1933.2473\n",
            "Epoch 490/500\n",
            "34/34 [==============================] - 0s 3ms/step - loss: 1941.7582 - mae: 1941.7582\n",
            "Epoch 491/500\n",
            "34/34 [==============================] - 0s 3ms/step - loss: 1934.4910 - mae: 1934.4910\n",
            "Epoch 492/500\n",
            "34/34 [==============================] - 0s 4ms/step - loss: 1938.8674 - mae: 1938.8674\n",
            "Epoch 493/500\n",
            "34/34 [==============================] - 0s 4ms/step - loss: 1933.7205 - mae: 1933.7205\n",
            "Epoch 494/500\n",
            "34/34 [==============================] - 0s 4ms/step - loss: 1934.5786 - mae: 1934.5786\n",
            "Epoch 495/500\n",
            "34/34 [==============================] - 0s 4ms/step - loss: 1937.1594 - mae: 1937.1594\n",
            "Epoch 496/500\n",
            "34/34 [==============================] - 0s 4ms/step - loss: 1933.9464 - mae: 1933.9464\n",
            "Epoch 497/500\n",
            "34/34 [==============================] - 0s 4ms/step - loss: 1934.0917 - mae: 1934.0917\n",
            "Epoch 498/500\n",
            "34/34 [==============================] - 0s 4ms/step - loss: 1951.7572 - mae: 1951.7572\n",
            "Epoch 499/500\n",
            "34/34 [==============================] - 0s 4ms/step - loss: 1944.7140 - mae: 1944.7140\n",
            "Epoch 500/500\n",
            "34/34 [==============================] - 0s 4ms/step - loss: 1938.8657 - mae: 1938.8657\n"
          ]
        },
        {
          "output_type": "execute_result",
          "data": {
            "text/plain": [
              "<keras.src.callbacks.History at 0x7a370beb3af0>"
            ]
          },
          "metadata": {},
          "execution_count": 171
        }
      ]
    },
    {
      "cell_type": "code",
      "source": [
        "insurance_model_3_loss, insurance_model_3_mae = insurance_model_3.evaluate(X_test_normal, y_test)\n"
      ],
      "metadata": {
        "colab": {
          "base_uri": "https://localhost:8080/"
        },
        "id": "uZsrXp72STsV",
        "outputId": "8a9acf2e-c2c0-4629-eb10-df7436c67a5c"
      },
      "execution_count": 172,
      "outputs": [
        {
          "output_type": "stream",
          "name": "stdout",
          "text": [
            "9/9 [==============================] - 0s 2ms/step - loss: 1720.4309 - mae: 1720.4309\n"
          ]
        }
      ]
    },
    {
      "cell_type": "code",
      "source": [],
      "metadata": {
        "id": "JyH3OxVPSc3J"
      },
      "execution_count": null,
      "outputs": []
    }
  ]
}